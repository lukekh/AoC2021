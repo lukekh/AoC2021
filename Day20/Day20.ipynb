{
 "cells": [
  {
   "cell_type": "markdown",
   "id": "93cc57dd-86e1-4d8a-a2d5-168474b09b4a",
   "metadata": {},
   "source": [
    "# Day 20\n",
    "\n",
    "## Part One\n",
    "\n",
    "<!-- Insert Markdown Here -->\n",
    "\n",
    "---"
   ]
  },
  {
   "cell_type": "code",
   "execution_count": null,
   "id": "a018da0b-b0fe-4046-aff7-a5a7c26b9b17",
   "metadata": {},
   "outputs": [],
   "source": [
    "with open('Day20.in') as f:\n",
    "    inputs = [i[:-1] for i in f.readlines()]"
   ]
  },
  {
   "cell_type": "code",
   "execution_count": null,
   "id": "b95aaf41-cfa5-478f-b39e-df90ba36d93b",
   "metadata": {},
   "outputs": [],
   "source": []
  },
  {
   "cell_type": "markdown",
   "id": "8298943e-56d8-415a-9fbf-ef52c8ba0650",
   "metadata": {},
   "source": [
    "---\n",
    "\n",
    "## Part Two\n",
    "\n",
    "<!-- Insert Markdown Here -->\n",
    "\n",
    "---"
   ]
  },
  {
   "cell_type": "code",
   "execution_count": null,
   "id": "fccd3734-8555-4fe3-8a4e-161b836a8e21",
   "metadata": {},
   "outputs": [],
   "source": []
  },
  {
   "cell_type": "code",
   "execution_count": null,
   "id": "ae4df3d2-feb1-4001-9992-d4fa8fa97c56",
   "metadata": {},
   "outputs": [],
   "source": []
  },
  {
   "cell_type": "markdown",
   "id": "af4634e7-9951-4690-8ee5-5eac17d7df9f",
   "metadata": {},
   "source": [
    "---"
   ]
  }
 ],
 "metadata": {
  "kernelspec": {
   "display_name": "AoC2021",
   "language": "python",
   "name": "aoc2021"
  },
  "language_info": {
   "codemirror_mode": {
    "name": "ipython",
    "version": 3
   },
   "file_extension": ".py",
   "mimetype": "text/x-python",
   "name": "python",
   "nbconvert_exporter": "python",
   "pygments_lexer": "ipython3",
   "version": "3.8.2"
  }
 },
 "nbformat": 4,
 "nbformat_minor": 5
}
