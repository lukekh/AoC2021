{
 "cells": [
  {
   "cell_type": "code",
   "execution_count": null,
   "id": "9816b9f2-9fed-424c-8ca1-5bc0771f09c0",
   "metadata": {},
   "outputs": [],
   "source": [
    "def set_range(s):\n",
    "    new = set()\n",
    "    for px, py in s:\n",
    "        new |= set([(i,j) for i in range(px-1, py+2) for j in range(px-1, py+2)])\n",
    "    return new"
   ]
  },
  {
   "cell_type": "code",
   "execution_count": 23,
   "id": "9d38b771-561c-4514-bc6f-b6ca89572492",
   "metadata": {},
   "outputs": [
    {
     "data": {
      "text/plain": [
       "(99, 99)"
      ]
     },
     "execution_count": 23,
     "metadata": {},
     "output_type": "execute_result"
    }
   ],
   "source": [
    "max(pixels)"
   ]
  }
 ],
 "metadata": {
  "kernelspec": {
   "display_name": "Python 3 (ipykernel)",
   "language": "python",
   "name": "python3"
  },
  "language_info": {
   "codemirror_mode": {
    "name": "ipython",
    "version": 3
   },
   "file_extension": ".py",
   "mimetype": "text/x-python",
   "name": "python",
   "nbconvert_exporter": "python",
   "pygments_lexer": "ipython3",
   "version": "3.8.2"
  }
 },
 "nbformat": 4,
 "nbformat_minor": 5
}
