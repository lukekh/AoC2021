{
 "cells": [
  {
   "cell_type": "markdown",
   "id": "93cc57dd-86e1-4d8a-a2d5-168474b09b4a",
   "metadata": {},
   "source": [
    "# Day 9: Smoke Basin\n",
    "\n",
    "## Part One\n",
    "\n",
    "These caves seem to be lava tubes. Parts are even still volcanically active; small hydrothermal vents release smoke into the caves that slowly settles like rain.\n",
    "\n",
    "If you can model how the smoke flows through the caves, you might be able to avoid it and be that much safer. The submarine generates a heightmap of the floor of the nearby caves for you (your puzzle input).\n",
    "\n",
    "Smoke flows to the lowest point of the area it's in. For example, consider the following heightmap:\n",
    "```\n",
    "2199943210\n",
    "3987894921\n",
    "9856789892\n",
    "8767896789\n",
    "9899965678\n",
    "```\n",
    "Each number corresponds to the height of a particular location, where 9 is the highest and 0 is the lowest a location can be.\n",
    "\n",
    "Your first goal is to find the low points - the locations that are lower than any of its adjacent locations. Most locations have four adjacent locations (up, down, left, and right); locations on the edge or corner of the map have three or two adjacent locations, respectively. (Diagonal locations do not count as adjacent.)\n",
    "\n",
    "In the above example, there are four low points, all highlighted: two are in the first row (a 1 and a 0), one is in the third row (a 5), and one is in the bottom row (also a 5). All other locations on the heightmap have some lower adjacent location, and so are not low points.\n",
    "\n",
    "The risk level of a low point is 1 plus its height. In the above example, the risk levels of the low points are 2, 1, 6, and 6. The sum of the risk levels of all low points in the heightmap is therefore 15.\n",
    "\n",
    "Find all of the low points on your heightmap. What is the sum of the risk levels of all low points on your heightmap?\n",
    "\n",
    "---"
   ]
  },
  {
   "cell_type": "code",
   "execution_count": 1,
   "id": "9547029d-54ff-47dc-bd8b-e3e6523c426a",
   "metadata": {},
   "outputs": [],
   "source": [
    "# Initialise\n",
    "inputs = [i[:-1] for i in open('Day09.in').readlines()]\n",
    "n = len(inputs)\n",
    "m = len(inputs[0])"
   ]
  },
  {
   "cell_type": "code",
   "execution_count": 2,
   "id": "a018da0b-b0fe-4046-aff7-a5a7c26b9b17",
   "metadata": {},
   "outputs": [
    {
     "name": "stdout",
     "output_type": "stream",
     "text": [
      "Sum of risk levels: 518\n"
     ]
    }
   ],
   "source": [
    "# Return the value of the adjacent cell or 10 if out of bounds\n",
    "f = lambda x, y: int(inputs[y][x]) if (0 <= y < n) and (0 <= x < m) else 10\n",
    "\n",
    "def low(x, y):\n",
    "    \"\"\"\n",
    "    Given (x,y) return whether it is a local minima (according to f)\n",
    "    \"\"\"\n",
    "    return (f(x-1, y) > f(x,y) < f(x+1, y)) and (f(x, y-1) > f(x,y) < f(x, y+1))\n",
    "\n",
    "def basin(x,y):\n",
    "    \"\"\"\n",
    "    This is for part two, but it's easier to include it in the part one for loop\n",
    "    \"\"\"\n",
    "    if low(x,y):\n",
    "        pts = {(x,y)}\n",
    "    else:\n",
    "        raise Exception(\"This point is not a minima\")\n",
    "    \n",
    "    def search(pts, old=None):\n",
    "        \"\"\"\n",
    "        Takes pts and then explores until all of basin is discovered,\n",
    "        then returns set of points that form the basin.\n",
    "        \n",
    "        Assumes that initial set {(x,y)} is a low point.\n",
    "        \"\"\"\n",
    "        # Initialise old if first iteration\n",
    "        if old is None:\n",
    "            old = pts.copy()\n",
    "        \n",
    "        # Empty set of new points that have been added to the basin\n",
    "        new = []\n",
    "        \n",
    "        # If old is not empty, search neighbouring points and add them to new,\n",
    "        # and continue exploring, else return current pts\n",
    "        if old:\n",
    "            for pt in old:\n",
    "                x, y = pt\n",
    "                if (f(x,y) < f(x-1,y) < 9) and (x-1,y) not in pts:\n",
    "                    new.append((x-1,y))\n",
    "                if (f(x,y) < f(x+1,y) < 9) and (x+1,y) not in pts:\n",
    "                    new.append((x+1,y))\n",
    "                if (f(x,y) < f(x,y-1) < 9) and (x,y-1) not in pts:\n",
    "                    new.append((x,y-1))\n",
    "                if (f(x,y) < f(x,y+1) < 9) and (x,y+1) not in pts:\n",
    "                    new.append((x,y+1))\n",
    "                \n",
    "                pts |= set(new)\n",
    "            return search(pts, new)\n",
    "        else:\n",
    "            return pts\n",
    "    \n",
    "    # Return number of points in basin\n",
    "    return len(search(pts))\n",
    "    \n",
    "# Initialise risk for part one and basins for part two\n",
    "risk = 0\n",
    "basins = []\n",
    "\n",
    "# Sum risk level of low points and find size of basins\n",
    "for j in range(n):\n",
    "    for i in range(m):\n",
    "        if low(i, j):\n",
    "            risk += f(i,j)+1\n",
    "            basins.append(basin(i,j))\n",
    "\n",
    "# Solution\n",
    "print(f\"Sum of risk levels: {risk}\")"
   ]
  },
  {
   "cell_type": "markdown",
   "id": "8298943e-56d8-415a-9fbf-ef52c8ba0650",
   "metadata": {},
   "source": [
    "---\n",
    "\n",
    "## Part Two\n",
    "\n",
    "Next, you need to find the largest basins so you know what areas are most important to avoid.\n",
    "\n",
    "A basin is all locations that eventually flow downward to a single low point. Therefore, every low point has a basin, although some basins are very small. Locations of height 9 do not count as being in any basin, and all other locations will always be part of exactly one basin.\n",
    "\n",
    "The size of a basin is the number of locations within the basin, including the low point. The example above has four basins.\n",
    "\n",
    "The top-left basin, size 3:\n",
    "<pre>\n",
    "<b>21</b>99943210\n",
    "<b>3</b>987894921\n",
    "9856789892\n",
    "8767896789\n",
    "9899965678\n",
    "</pre>\n",
    "The top-right basin, size 9:\n",
    "<pre>\n",
    "21999<b>43210</b>\n",
    "398789<b>4</b>9<b>21</b>\n",
    "985678989<b>2</b>\n",
    "8767896789\n",
    "9899965678\n",
    "</pre>\n",
    "The middle basin, size 14:\n",
    "<pre>\n",
    "2199943210\n",
    "39<b>878</b>94921\n",
    "9<b>85678</b>9892\n",
    "<b>87678</b>96789\n",
    "9<b>8</b>99965678\n",
    "</pre>\n",
    "The bottom-right basin, size 9:\n",
    "<pre>\n",
    "2199943210\n",
    "3987894921\n",
    "9856789<b>8</b>92\n",
    "876789<b>678</b>9\n",
    "98999<b>65678</b>\n",
    "</pre>\n",
    "Find the three largest basins and multiply their sizes together. In the above example, this is 9 * 14 * 9 = 1134.\n",
    "\n",
    "What do you get if you multiply together the sizes of the three largest basins?\n",
    "\n",
    "---"
   ]
  },
  {
   "cell_type": "code",
   "execution_count": 3,
   "id": "fccd3734-8555-4fe3-8a4e-161b836a8e21",
   "metadata": {},
   "outputs": [
    {
     "name": "stdout",
     "output_type": "stream",
     "text": [
      "Product of the size of the three biggest basins: 949905\n"
     ]
    }
   ],
   "source": [
    "product = lambda x, prod=1: product(x[1:], prod*x[0]) if x else prod\n",
    "\n",
    "# Solution\n",
    "print(f\"Product of the size of the three biggest basins: {product(sorted(basins)[-3:])}\")"
   ]
  },
  {
   "cell_type": "markdown",
   "id": "af4634e7-9951-4690-8ee5-5eac17d7df9f",
   "metadata": {},
   "source": [
    "---"
   ]
  }
 ],
 "metadata": {
  "kernelspec": {
   "display_name": "AoC2021",
   "language": "python",
   "name": "aoc2021"
  },
  "language_info": {
   "codemirror_mode": {
    "name": "ipython",
    "version": 3
   },
   "file_extension": ".py",
   "mimetype": "text/x-python",
   "name": "python",
   "nbconvert_exporter": "python",
   "pygments_lexer": "ipython3",
   "version": "3.8.2"
  }
 },
 "nbformat": 4,
 "nbformat_minor": 5
}
