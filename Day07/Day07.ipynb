{
 "cells": [
  {
   "cell_type": "markdown",
   "id": "93cc57dd-86e1-4d8a-a2d5-168474b09b4a",
   "metadata": {},
   "source": [
    "# Day 7: The Treachery of Whales\n",
    "\n",
    "## Part One\n",
    "\n",
    "A giant whale has decided your submarine is its next meal, and it's much faster than you are. There's nowhere to run!\n",
    "\n",
    "Suddenly, a swarm of crabs (each in its own tiny submarine - it's too deep for them otherwise) zooms in to rescue you! They seem to be preparing to blast a hole in the ocean floor; sensors indicate a massive underground cave system just beyond where they're aiming!\n",
    "\n",
    "The crab submarines all need to be aligned before they'll have enough power to blast a large enough hole for your submarine to get through. However, it doesn't look like they'll be aligned before the whale catches you! Maybe you can help?\n",
    "\n",
    "There's one major catch - crab submarines can only move horizontally.\n",
    "\n",
    "You quickly make a list of the horizontal position of each crab (your puzzle input). Crab submarines have limited fuel, so you need to find a way to make all of their horizontal positions match while requiring them to spend as little fuel as possible.\n",
    "\n",
    "For example, consider the following horizontal positions:\n",
    "\n",
    "`16,1,2,0,4,2,7,1,2,14`\n",
    "\n",
    "This means there's a crab with horizontal position 16, a crab with horizontal position 1, and so on.\n",
    "\n",
    "Each change of 1 step in horizontal position of a single crab costs 1 fuel. You could choose any horizontal position to align them all on, but the one that costs the least fuel is horizontal position 2:\n",
    "\n",
    "* Move from 16 to 2: 14 fuel\n",
    "\n",
    "* Move from 1 to 2: 1 fuel\n",
    "\n",
    "* Move from 2 to 2: 0 fuel\n",
    "\n",
    "* Move from 0 to 2: 2 fuel\n",
    "\n",
    "* Move from 4 to 2: 2 fuel\n",
    "\n",
    "* Move from 2 to 2: 0 fuel\n",
    "\n",
    "* Move from 7 to 2: 5 fuel\n",
    "\n",
    "* Move from 1 to 2: 1 fuel\n",
    "\n",
    "* Move from 2 to 2: 0 fuel\n",
    "\n",
    "* Move from 14 to 2: 12 fuel\n",
    "\n",
    "This costs a total of 37 fuel. This is the cheapest possible outcome; more expensive outcomes include aligning at position 1 (41 fuel), position 3 (39 fuel), or position 10 (71 fuel).\n",
    "\n",
    "Determine the horizontal position that the crabs can align to using the least fuel possible. How much fuel must they spend to align to that position?\n",
    "\n",
    "---"
   ]
  },
  {
   "cell_type": "code",
   "execution_count": 7,
   "id": "a018da0b-b0fe-4046-aff7-a5a7c26b9b17",
   "metadata": {},
   "outputs": [],
   "source": [
    "# Initialise\n",
    "inputs = [int(i) for i in open('Day07.in').read().split(',')]"
   ]
  },
  {
   "cell_type": "code",
   "execution_count": 82,
   "id": "ee445eab-4108-431a-abb5-5b95185df293",
   "metadata": {},
   "outputs": [
    {
     "name": "stdout",
     "output_type": "stream",
     "text": [
      "Minimum fuel needed to align is: 344535\n"
     ]
    }
   ],
   "source": [
    "# Initialise range\n",
    "r = [total(inputs, min(inputs)), total(inputs, max(inputs))]\n",
    "idx = [min(inputs), max(inputs)]\n",
    "\n",
    "# Define total fuel usage as a function\n",
    "d = lambda crab, loc:abs(crab-loc)\n",
    "def total_fuel(crabs, loc):\n",
    "    return sum([d(crab, loc) for crab in crabs])\n",
    "\n",
    "# Use bisection method to find minimum\n",
    "def bisection(l, f):\n",
    "    \"\"\"\n",
    "    Given a list of values, l, and a function , f, find the minimum value obtained by f.\n",
    "    \n",
    "    Note: may be ill-posed if there are multiple minima\n",
    "    \"\"\"\n",
    "    # Initialise range\n",
    "    r = [f(l, min(l)), f(l, max(l))]\n",
    "    idx = [min(l), max(l)]\n",
    "    \n",
    "    while abs(idx[0] - idx[1]) > 0:\n",
    "        j = sum(idx)//2\n",
    "        middle = f(inputs, j)\n",
    "        if r[0] <= r[1]:\n",
    "            r[1], idx[1] = middle, j\n",
    "        else:\n",
    "            r[0], idx[0] = middle, j\n",
    "    \n",
    "    return min(zip(idx, r), key=lambda x:x[1])\n",
    "\n",
    "# Solution\n",
    "print(f\"Minimum fuel needed to align is: {bisection(inputs, total)[1]}\")"
   ]
  },
  {
   "cell_type": "markdown",
   "id": "8298943e-56d8-415a-9fbf-ef52c8ba0650",
   "metadata": {},
   "source": [
    "---\n",
    "\n",
    "## Part Two\n",
    "\n",
    "The crabs don't seem interested in your proposed solution. Perhaps you misunderstand crab engineering?\n",
    "\n",
    "As it turns out, crab submarine engines don't burn fuel at a constant rate. Instead, each change of 1 step in horizontal position costs 1 more unit of fuel than the last: the first step costs 1, the second step costs 2, the third step costs 3, and so on.\n",
    "\n",
    "As each crab moves, moving further becomes more expensive. This changes the best horizontal position to align them all on; in the example above, this becomes 5:\n",
    "\n",
    "* Move from 16 to 5: 66 fuel\n",
    "\n",
    "* Move from 1 to 5: 10 fuel\n",
    "\n",
    "* Move from 2 to 5: 6 fuel\n",
    "\n",
    "* Move from 0 to 5: 15 fuel\n",
    "\n",
    "* Move from 4 to 5: 1 fuel\n",
    "\n",
    "* Move from 2 to 5: 6 fuel\n",
    "\n",
    "* Move from 7 to 5: 3 fuel\n",
    "\n",
    "* Move from 1 to 5: 10 fuel\n",
    "\n",
    "* Move from 2 to 5: 6 fuel\n",
    "\n",
    "* Move from 14 to 5: 45 fuel\n",
    "\n",
    "This costs a total of 168 fuel. This is the new cheapest possible outcome; the old alignment position (2) now costs 206 fuel instead.\n",
    "\n",
    "Determine the horizontal position that the crabs can align to using the least fuel possible so they can make you an escape route! How much fuel must they spend to align to that position?\n",
    "\n",
    "---"
   ]
  },
  {
   "cell_type": "code",
   "execution_count": 83,
   "id": "fccd3734-8555-4fe3-8a4e-161b836a8e21",
   "metadata": {},
   "outputs": [
    {
     "name": "stdout",
     "output_type": "stream",
     "text": [
      "Minimum fuel needed to align is: 95581659\n"
     ]
    }
   ],
   "source": [
    "# Redefine distance metric\n",
    "d = lambda crab, loc:abs(crab-loc)*(abs(crab-loc)+1)//2\n",
    "\n",
    "# Solution\n",
    "print(f\"Minimum fuel needed to align is: {bisection(inputs, total)[1]}\")"
   ]
  },
  {
   "cell_type": "markdown",
   "id": "af4634e7-9951-4690-8ee5-5eac17d7df9f",
   "metadata": {},
   "source": [
    "---"
   ]
  }
 ],
 "metadata": {
  "kernelspec": {
   "display_name": "AoC2021",
   "language": "python",
   "name": "aoc2021"
  },
  "language_info": {
   "codemirror_mode": {
    "name": "ipython",
    "version": 3
   },
   "file_extension": ".py",
   "mimetype": "text/x-python",
   "name": "python",
   "nbconvert_exporter": "python",
   "pygments_lexer": "ipython3",
   "version": "3.8.2"
  }
 },
 "nbformat": 4,
 "nbformat_minor": 5
}
