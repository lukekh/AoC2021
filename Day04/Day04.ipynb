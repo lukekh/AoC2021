{
 "cells": [
  {
   "cell_type": "markdown",
   "id": "e6214db9-3dd1-4534-a167-a3f075698637",
   "metadata": {},
   "source": [
    "# Day 4: \n",
    "\n",
    "## Part One\n",
    "\n",
    "You're already almost 1.5km (almost a mile) below the surface of the ocean, already so deep that you can't see any sunlight. What you can see, however, is a giant squid that has attached itself to the outside of your submarine.\n",
    "\n",
    "Maybe it wants to play bingo?\n",
    "\n",
    "Bingo is played on a set of boards each consisting of a 5x5 grid of numbers. Numbers are chosen at random, and the chosen number is marked on all boards on which it appears. (Numbers may not appear on all boards.) If all numbers in any row or any column of a board are marked, that board wins. (Diagonals don't count.)\n",
    "\n",
    "The submarine has a bingo subsystem to help passengers (currently, you and the giant squid) pass the time. It automatically generates a random order in which to draw numbers and a random set of boards (your puzzle input). For example:\n",
    "\n",
    "```\n",
    "7,4,9,5,11,17,23,2,0,14,21,24,10,16,13,6,15,25,12,22,18,20,8,19,3,26,1\n",
    "\n",
    "22 13 17 11  0\n",
    " 8  2 23  4 24\n",
    "21  9 14 16  7\n",
    " 6 10  3 18  5\n",
    " 1 12 20 15 19\n",
    "\n",
    " 3 15  0  2 22\n",
    " 9 18 13 17  5\n",
    "19  8  7 25 23\n",
    "20 11 10 24  4\n",
    "14 21 16 12  6\n",
    "\n",
    "14 21 17 24  4\n",
    "10 16 15  9 19\n",
    "18  8 23 26 20\n",
    "22 11 13  6  5\n",
    " 2  0 12  3  7\n",
    "```\n",
    "\n",
    "After the first five numbers are drawn (7, 4, 9, 5, and 11), there are no winners, but the boards are marked as follows (shown here adjacent to each other to save space):\n",
    "<pre>\n",
    "22 13 17 <b>11</b>  0         3 15  0  2 22        14 21 17 24  <b>4</b>\n",
    " 8  2 23  <b>4</b> 24         <b>9</b> 18 13 17  <b>5</b>        10 16 15  <b>9</b> 19\n",
    "21  <b>9</b> 14 16  <b>7</b>        19  8  <b>7</b> 25 23        18  8 23 26 20\n",
    " 6 10  3 18  <b>5</b>        20 <b>11</b> 10 24  <b>4</b>        22 <b>11</b> 13  6  <b>5</b>\n",
    " 1 12 20 15 19        14 21 16 12  6         2  0 12  3  <b>7</b>\n",
    "</pre>\n",
    "\n",
    "After the next six numbers are drawn (17, 23, 2, 0, 14, and 21), there are still no winners:\n",
    "<pre>\n",
    "22 13 <b>17</b> <b>11</b>  <b>0</b>         3 15  <b>0</b>  <b>2</b> 22        <b>14</b> <b>21</b> <b>17</b> 24  <b>4</b>\n",
    " 8  <b>2</b> <b>23</b>  <b>4</b> 24         <b>9</b> 18 13 <b>17</b>  <b>5</b>        10 16 15  <b>9</b> 19\n",
    "<b>21</b>  <b>9</b> <b>14</b> 16  <b>7</b>        19  8  <b>7</b> 25 <b>23</b>        18  8 <b>23</b> 26 20\n",
    " 6 10  3 18  <b>5</b>        20 <b>11</b> 10 24  <b>4</b>        22 <b>11</b> 13  6  <b>5</b>\n",
    " 1 12 20 15 19        <b>14</b> <b>21</b> 16 12  6         <b>2</b>  <b>0</b> 12  3  <b>7</b>\n",
    "</pre>\n",
    "Finally, 24 is drawn:\n",
    "<pre>\n",
    "22 13 <b>17</b> <b>11</b>  <b>0</b>         3 15  <b>0</b>  <b>2</b> 22        <b>14</b> <b>21</b> <b>17</b> <b>24</b>  <b>4</b>\n",
    " 8  <b>2</b> <b>23</b>  <b>4</b> <b>24</b>         <b>9</b> 18 13 <b>17</b>  <b>5</b>        10 16 15  <b>9</b> 19\n",
    "<b>21</b>  <b>9</b> <b>14</b> 16  <b>7</b>        19  8  <b>7</b> 25 <b>23</b>        18  8 <b>23</b> 26 20\n",
    " 6 10  3 18  <b>5</b>        20 <b>11</b> 10 <b>24</b>  <b>4</b>        22 <b>11</b> 13  6  <b>5</b>\n",
    " 1 12 20 15 19        <b>14</b> <b>21</b> 16 12  6         <b>2</b>  <b>0</b> 12  3  <b>7</b>\n",
    "</pre>\n",
    "\n",
    "At this point, the third board wins because it has at least one complete row or column of marked numbers (in this case, the entire top row is marked: `14 21 17 24 4`).\n",
    "\n",
    "The score of the winning board can now be calculated. Start by finding the sum of all unmarked numbers on that board; in this case, the sum is 188. Then, multiply that sum by the number that was just called when the board won, 24, to get the final score, 188 * 24 = 4512.\n",
    "\n",
    "To guarantee victory against the giant squid, figure out which board will win first. What will your final score be if you choose that board?\n",
    "\n",
    "---"
   ]
  },
  {
   "cell_type": "code",
   "execution_count": 1,
   "id": "393092f3-81e6-4a5d-97e6-460d4d00ea26",
   "metadata": {},
   "outputs": [
    {
     "name": "stdout",
     "output_type": "stream",
     "text": [
      "Best possible score: 5685\n"
     ]
    }
   ],
   "source": [
    "# Initialise\n",
    "numbers, *boards = [i for i in open('Day04.in').read()[:-1].split('\\n\\n')]\n",
    "\n",
    "# Clean numbers\n",
    "numbers = [int(n) for n in numbers.split(',')]\n",
    "\n",
    "# Clean boards\n",
    "clean_board = lambda board: [[int(l[3*i:3*i+2]) for i in range((len(l)+2)//3)] for l in board]\n",
    "boards = [clean_board(b.split('\\n')) for b in boards]\n",
    "\n",
    "def bingo(numbers, board):\n",
    "    \"\"\"\n",
    "    Given numbers, will return True if board has bingo, else False\n",
    "    \"\"\"\n",
    "    n_set = set(numbers)\n",
    "    \n",
    "    for line in board:\n",
    "        if set(line) <= n_set:\n",
    "            return True\n",
    "    \n",
    "    for i in range(len(board[0])):\n",
    "        if set([l[i] for l in board]) <= n_set:\n",
    "            return True\n",
    "    \n",
    "    return False\n",
    "\n",
    "\n",
    "def when_bingo(numbers, board):\n",
    "    \"\"\"\n",
    "    Return the index of numbers that causes the first bingo on this board\n",
    "    \"\"\"\n",
    "    for i in range(5, len(numbers)):\n",
    "        if bingo(numbers[0:i], board):\n",
    "            return i\n",
    "    else:\n",
    "        return len(numbers) + 1\n",
    "\n",
    "\n",
    "def best_score(numbers, boards):\n",
    "    \"\"\"\n",
    "    This function will find the best possible board and calculate its score.\n",
    "    \"\"\"\n",
    "    best = min([(when_bingo(numbers, board), board) for i, board in enumerate(boards)])\n",
    "    \n",
    "    best_n = set(numbers[:best[0]])\n",
    "    board_n = set([i for l in best[1] for i in l])\n",
    "    \n",
    "    return sum(board_n - best_n)*numbers[best[0]-1]\n",
    "\n",
    "# Solution\n",
    "print(f\"Best possible score: {best_score(numbers, boards)}\")"
   ]
  },
  {
   "cell_type": "markdown",
   "id": "f4872d5f-36a2-4c99-ada0-6b1c4685b889",
   "metadata": {},
   "source": [
    "---\n",
    "\n",
    "## Part Two\n",
    "\n",
    "On the other hand, it might be wise to try a different strategy: let the giant squid win.\n",
    "\n",
    "You aren't sure how many bingo boards a giant squid could play at once, so rather than waste time counting its arms, the safe thing to do is to figure out which board will win last and choose that one. That way, no matter which boards it picks, it will win for sure.\n",
    "\n",
    "In the above example, the second board is the last to win, which happens after 13 is eventually called and its middle column is completely marked. If you were to keep playing until this point, the second board would have a sum of unmarked numbers equal to 148 for a final score of 148 * 13 = 1924.\n",
    "\n",
    "Figure out which board will win last. Once it wins, what would its final score be?\n",
    "\n",
    "---"
   ]
  },
  {
   "cell_type": "code",
   "execution_count": 2,
   "id": "758d2efd-7a2a-41fd-aad2-f901f9cfe453",
   "metadata": {},
   "outputs": [
    {
     "name": "stdout",
     "output_type": "stream",
     "text": [
      "Worst possible score: 5685\n"
     ]
    }
   ],
   "source": [
    "# Change the min in the best_score to a max and it will return the worst score in the list\n",
    "def worst_score(numbers, boards):\n",
    "    \"\"\"\n",
    "    This function will find the worst possible board and calculate its score.\n",
    "    \"\"\"\n",
    "    best = max([(when_bingo(numbers, board), board) for i, board in enumerate(boards)])\n",
    "    \n",
    "    best_n = set(numbers[:best[0]])\n",
    "    board_n = set([i for l in best[1] for i in l])\n",
    "    \n",
    "    return sum(board_n - best_n)*numbers[best[0]-1]\n",
    "\n",
    "# Solution\n",
    "print(f\"Worst possible score: {best_score(numbers, boards)}\")"
   ]
  },
  {
   "cell_type": "markdown",
   "id": "1d23fef8-7f8a-4086-8701-e091c1cec756",
   "metadata": {},
   "source": [
    "---"
   ]
  }
 ],
 "metadata": {
  "kernelspec": {
   "display_name": "AoC2021",
   "language": "python",
   "name": "aoc2021"
  },
  "language_info": {
   "codemirror_mode": {
    "name": "ipython",
    "version": 3
   },
   "file_extension": ".py",
   "mimetype": "text/x-python",
   "name": "python",
   "nbconvert_exporter": "python",
   "pygments_lexer": "ipython3",
   "version": "3.8.2"
  }
 },
 "nbformat": 4,
 "nbformat_minor": 5
}
