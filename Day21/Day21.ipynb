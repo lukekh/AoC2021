{
 "cells": [
  {
   "cell_type": "markdown",
   "id": "93cc57dd-86e1-4d8a-a2d5-168474b09b4a",
   "metadata": {},
   "source": [
    "# Day 21: Dirac Dice\n",
    "\n",
    "## Part One\n",
    "\n",
    "<p>There's not much to do as you slowly descend to the bottom of the ocean. The submarine computer <span title=\"A STRANGE GAME.\">challenges you to a nice game</span> of <em>Dirac Dice</em>.</p>\n",
    "<p>This game consists of a single <a href=\"https://en.wikipedia.org/wiki/Dice\" target=\"_blank\">die</a>, two <a href=\"https://en.wikipedia.org/wiki/Glossary_of_board_games#piece\" target=\"_blank\">pawns</a>, and a game board with a circular track containing ten spaces marked <code>1</code> through <code>10</code> clockwise. Each player's <em>starting space</em> is chosen randomly (your puzzle input). Player 1 goes first.</p>\n",
    "<p>Players take turns moving. On each player's turn, the player rolls the die <em>three times</em> and adds up the results. Then, the player moves their pawn that many times <em>forward</em> around the track (that is, moving clockwise on spaces in order of increasing value, wrapping back around to <code>1</code> after <code>10</code>). So, if a player is on space <code>7</code> and they roll <code>2</code>, <code>2</code>, and <code>1</code>, they would move forward 5 times, to spaces <code>8</code>, <code>9</code>, <code>10</code>, <code>1</code>, and finally stopping on <code>2</code>.</p>\n",
    "<p>After each player moves, they increase their <em>score</em> by the value of the space their pawn stopped on. Players' scores start at <code>0</code>. So, if the first player starts on space <code>7</code> and rolls a total of <code>5</code>, they would stop on space <code>2</code> and add <code>2</code> to their score (for a total score of <code>2</code>). The game immediately ends as a win for any player whose score reaches <em>at least <code>1000</code></em>.</p>\n",
    "<p>Since the first game is a practice game, the submarine opens a compartment labeled <em>deterministic dice</em> and a 100-sided die falls out. This die always rolls <code>1</code> first, then <code>2</code>, then <code>3</code>, and so on up to <code>100</code>, after which it starts over at <code>1</code> again. Play using this die.</p>\n",
    "<p>For example, given these starting positions:</p>\n",
    "<pre><code>Player 1 starting position: 4\n",
    "Player 2 starting position: 8\n",
    "</code></pre>\n",
    "<p>This is how the game would go:</p>\n",
    "<ul>\n",
    "<li>Player 1 rolls <code>1</code>+<code>2</code>+<code>3</code> and moves to space <code>10</code> for a total score of <code>10</code>.</li>\n",
    "<li>Player 2 rolls <code>4</code>+<code>5</code>+<code>6</code> and moves to space <code>3</code> for a total score of <code>3</code>.</li>\n",
    "<li>Player 1 rolls <code>7</code>+<code>8</code>+<code>9</code> and moves to space <code>4</code> for a total score of <code>14</code>.</li>\n",
    "<li>Player 2 rolls <code>10</code>+<code>11</code>+<code>12</code> and moves to space <code>6</code> for a total score of <code>9</code>.</li>\n",
    "<li>Player 1 rolls <code>13</code>+<code>14</code>+<code>15</code> and moves to space <code>6</code> for a total score of <code>20</code>.</li>\n",
    "<li>Player 2 rolls <code>16</code>+<code>17</code>+<code>18</code> and moves to space <code>7</code> for a total score of <code>16</code>.</li>\n",
    "<li>Player 1 rolls <code>19</code>+<code>20</code>+<code>21</code> and moves to space <code>6</code> for a total score of <code>26</code>.</li>\n",
    "<li>Player 2 rolls <code>22</code>+<code>23</code>+<code>24</code> and moves to space <code>6</code> for a total score of <code>22</code>.</li>\n",
    "</ul>\n",
    "<p>...after many turns...</p>\n",
    "<ul>\n",
    "<li>Player 2 rolls <code>82</code>+<code>83</code>+<code>84</code> and moves to space <code>6</code> for a total score of <code>742</code>.</li>\n",
    "<li>Player 1 rolls <code>85</code>+<code>86</code>+<code>87</code> and moves to space <code>4</code> for a total score of <code>990</code>.</li>\n",
    "<li>Player 2 rolls <code>88</code>+<code>89</code>+<code>90</code> and moves to space <code>3</code> for a total score of <code>745</code>.</li>\n",
    "<li>Player 1 rolls <code>91</code>+<code>92</code>+<code>93</code> and moves to space <code>10</code> for a final score, <code>1000</code>.</li>\n",
    "</ul>\n",
    "<p>Since player 1 has at least <code>1000</code> points, player 1 wins and the game ends. At this point, the losing player had <code>745</code> points and the die had been rolled a total of <code>993</code> times; <code>745 * 993 = <em>739785</em></code>.</p>\n",
    "<p>Play a practice game using the deterministic 100-sided die. The moment either player wins, <em>what do you get if you multiply the score of the losing player by the number of times the die was rolled during the game?</em></p>\n",
    "\n",
    "---"
   ]
  },
  {
   "cell_type": "code",
   "execution_count": 1,
   "id": "a018da0b-b0fe-4046-aff7-a5a7c26b9b17",
   "metadata": {},
   "outputs": [],
   "source": [
    "# Initialise\n",
    "with open('Day21.in') as f:\n",
    "    pos = {i+1: int(pos[:-1].split(':')[-1]) for i, pos in enumerate(f.readlines())}\n",
    "    score = {1:0, 2:0}\n",
    "    turn = 1"
   ]
  },
  {
   "cell_type": "code",
   "execution_count": 2,
   "id": "b6a5d1f5-baac-4734-ab3d-dfd597dc01d4",
   "metadata": {},
   "outputs": [
    {
     "name": "stdout",
     "output_type": "stream",
     "text": [
      "Solution: 903630\n"
     ]
    }
   ],
   "source": [
    "class deterministic_die:\n",
    "    def __init__(self, n=1, counter=0):\n",
    "        self.n=n\n",
    "        self.counter=counter\n",
    "    \n",
    "    def roll(self):\n",
    "        temp = self.n\n",
    "        self.n = (self.n % 100) + 1\n",
    "        self.counter += 1\n",
    "        return temp\n",
    "    \n",
    "    def __next__(self):\n",
    "        return self.roll()\n",
    "    \n",
    "    def roll3(self):\n",
    "        return next(self) + next(self) + next(self)\n",
    "\n",
    "# This function will help clean up the advancement logic\n",
    "advance = lambda pos, k: ((pos + k - 1) % 10) + 1\n",
    "\n",
    "# Initiliase die and position\n",
    "d = deterministic_die()\n",
    "position = pos.copy()\n",
    "\n",
    "# Iterate until there is a winner\n",
    "while (score[1] < 1000) and (score[2] < 1000):\n",
    "    position[turn] = advance(position[turn], d.roll3())\n",
    "    score[turn] += position[turn]    \n",
    "    turn = 2 if turn == 1 else 1\n",
    "\n",
    "# Solution\n",
    "print(\"Solution:\", min(score.values())*d.counter)"
   ]
  },
  {
   "cell_type": "markdown",
   "id": "8298943e-56d8-415a-9fbf-ef52c8ba0650",
   "metadata": {},
   "source": [
    "---\n",
    "\n",
    "## Part Two\n",
    "\n",
    "<p>Now that you're warmed up, it's time to play the real game.</p>\n",
    "<p>A second compartment opens, this time labeled <em>Dirac dice</em>. Out of it falls a single three-sided die.</p>\n",
    "<p>As you experiment with the die, you feel a little strange. An informational brochure in the compartment explains that this is a <em>quantum die</em>: when you roll it, the universe <em>splits into multiple copies</em>, one copy for each possible outcome of the die. In this case, rolling the die always splits the universe into <em>three copies</em>: one where the outcome of the roll was <code>1</code>, one where it was <code>2</code>, and one where it was <code>3</code>.</p>\n",
    "<p>The game is played the same as before, although to prevent things from getting too far out of hand, the game now ends when either player's score reaches at least <code><em>21</em></code>.</p>\n",
    "<p>Using the same starting positions as in the example above, player 1 wins in <code><em>444356092776315</em></code> universes, while player 2 merely wins in <code>341960390180808</code> universes.</p>\n",
    "<p>Using your given starting positions, determine every possible outcome. <em>Find the player that wins in more universes; in how many universes does that player win?</em></p>\n",
    "\n",
    "---"
   ]
  },
  {
   "cell_type": "code",
   "execution_count": 3,
   "id": "01b08ca7-c43f-438a-8872-c79a79bcb07d",
   "metadata": {},
   "outputs": [
    {
     "name": "stdout",
     "output_type": "stream",
     "text": [
      "Player 1 wins in the most, totalling 303121579983974 universes.\n"
     ]
    }
   ],
   "source": [
    "# We get these frequencies by way of Pascal's pyramid (summing across columns)\n",
    "freq = {3:1, 4:3, 5:6, 6:7, 7:6, 8:3, 9:1}\n",
    "\n",
    "# Initialise state\n",
    "states = {((pos[1], 0), (pos[2], 0)):1}\n",
    "won = {1:0, 2:0}\n",
    "cap = 21\n",
    "\n",
    "def next_states(state):\n",
    "    \"\"\"\n",
    "    Takes state (a pos, score pair) and returns a dictionary\n",
    "    whose keys are the new states and whose values are the \n",
    "    frequencies by which the states occur\n",
    "    \"\"\"\n",
    "    pos, score = state\n",
    "    return {(n:= advance(pos,i), score+n):freq[i] for i in freq}\n",
    "\n",
    "# Simulate rolls with Dirac Dice by progressing \n",
    "# all states unless a player has won\n",
    "while states:\n",
    "    # Initialise new states\n",
    "    new_states = {}\n",
    "    \n",
    "    # Iterate over incomplete games\n",
    "    for state in states:\n",
    "        # n is the number of games in this state\n",
    "        n = states[state]\n",
    "        # p1, p2 are (pos, score) pairs\n",
    "        p1, p2 = state\n",
    "        \n",
    "        # f1 is the dictionary with new states and fequencies\n",
    "        f1 = next_states(p1)\n",
    "        for p, s in f1:\n",
    "            # for state player 1s state (p,s), f is the number of games in this state\n",
    "            f = f1[(p,s)]\n",
    "            \n",
    "            # If player 1 wins, add this on to their win tally\n",
    "            if s >= cap:\n",
    "                won[1] += n*f\n",
    "            \n",
    "            # Otherwise, simulate p2\n",
    "            else:\n",
    "                f2 = next_states(p2)\n",
    "                for q, r in f2:\n",
    "                    # for state player 2s state (q,r), g is the number of games in this state\n",
    "                    g = f2[(q,r)]\n",
    "                    # If player 2 wins, add n*f*g to this tally\n",
    "                    if r >= cap:\n",
    "                        won[2] += n*f*g\n",
    "                    # Otherwise add this state to new_states to iterate over\n",
    "                    else:\n",
    "                        if ((p,s),(q,r)) in new_states:\n",
    "                            new_states[((p,s),(q,r))] += n*f*g\n",
    "                        else:\n",
    "                            new_states[((p,s),(q,r))] = n*f*g\n",
    "    \n",
    "    # Reset states for while loop and iterate until no new states\n",
    "    states = new_states\n",
    "\n",
    "# Solution\n",
    "print(f\"Player {(key:=max(won, key=won.get))} wins in the most, totalling {won[key]} universes.\")"
   ]
  },
  {
   "cell_type": "markdown",
   "id": "af4634e7-9951-4690-8ee5-5eac17d7df9f",
   "metadata": {},
   "source": [
    "---"
   ]
  }
 ],
 "metadata": {
  "kernelspec": {
   "display_name": "AoC2021",
   "language": "python",
   "name": "aoc2021"
  },
  "language_info": {
   "codemirror_mode": {
    "name": "ipython",
    "version": 3
   },
   "file_extension": ".py",
   "mimetype": "text/x-python",
   "name": "python",
   "nbconvert_exporter": "python",
   "pygments_lexer": "ipython3",
   "version": "3.8.2"
  }
 },
 "nbformat": 4,
 "nbformat_minor": 5
}
