{
 "cells": [
  {
   "cell_type": "markdown",
   "id": "93cc57dd-86e1-4d8a-a2d5-168474b09b4a",
   "metadata": {},
   "source": [
    "# Day 23\n",
    "\n",
    "## Part One\n",
    "\n",
    "<!-- Insert Markdown Here -->\n",
    "\n",
    "---"
   ]
  },
  {
   "cell_type": "code",
   "execution_count": 23,
   "id": "a018da0b-b0fe-4046-aff7-a5a7c26b9b17",
   "metadata": {},
   "outputs": [],
   "source": [
    "# Initialise\n",
    "from queue import PriorityQueue\n",
    "\n",
    "with open('Day23.in') as f:\n",
    "    spaces = set()\n",
    "    amphipods = set()\n",
    "    for y, row in enumerate(reversed(f.readlines())):\n",
    "        for x, char in enumerate(row):\n",
    "            if char not in ('#', ' ', '\\n'):\n",
    "                spaces.add((x,y))\n",
    "                if char != '.':\n",
    "                    # An amphipod is a (char, (x,y), moved) tuple where:\n",
    "                    #    * char is the letter representation of the amphipod (A,B,C,D)\n",
    "                    #    * (x,y) is its current position\n",
    "                    #    * moved is a boolean indicating if it has been moved yet\n",
    "                    amphipods.add((char, (x, y), False))\n",
    "    energy = {\n",
    "        'A':1,\n",
    "        'B':10,\n",
    "        'C':100,\n",
    "        'D':1000\n",
    "    }"
   ]
  },
  {
   "cell_type": "code",
   "execution_count": 24,
   "id": "fa237799-ec23-4e45-afcf-a742ece3247f",
   "metadata": {},
   "outputs": [],
   "source": [
    "def adjacent(pt, spaces=spaces):\n",
    "    \"\"\"pt is an x,y pair\"\"\"\n",
    "    adj = []\n",
    "    x, y = pt\n",
    "    \n",
    "    if (p:=(x-1, y)) in spaces:\n",
    "        adj.append(p)\n",
    "    if (p:=(x+1, y)) in spaces:\n",
    "        adj.append(p)\n",
    "    if (p:=(x, y-1)) in spaces:\n",
    "        adj.append(p)\n",
    "    if (p:=(x, y+1)) in spaces:\n",
    "        adj.append(p)\n",
    "    \n",
    "    return set(adj)\n",
    "\n",
    "    \n",
    "def cost(char, from_, to_):\n",
    "    \"\"\"\n",
    "    Cost needs to be a little weird because it's not the straight manhattan distance\n",
    "    \"\"\"\n",
    "    xdist = abs(from_[0]-to_[0])\n",
    "    if xdist == 0:\n",
    "        ydist = abs(from_[1]-to_[1])\n",
    "    else:\n",
    "        ydist = abs(3 - from_[1]) + abs(3 - to_[1])\n",
    "    \n",
    "    return energy[char]*(xdist+ydist)\n",
    "\n",
    "def adjacent(pt, spaces=spaces):\n",
    "    \"\"\"pt is an x,y pair\"\"\"\n",
    "    adj = []\n",
    "    x, y = pt\n",
    "    \n",
    "    if (p:=(x-1, y)) in spaces:\n",
    "        adj.append(p)\n",
    "    if (p:=(x+1, y)) in spaces:\n",
    "        adj.append(p)\n",
    "    if (p:=(x, y-1)) in spaces:\n",
    "        adj.append(p)\n",
    "    if (p:=(x, y+1)) in spaces:\n",
    "        adj.append(p)\n",
    "    \n",
    "    return set(adj)\n",
    "\n",
    "\n",
    "doorways = set([p for p in spaces if len(adjacent(p))==3])\n",
    "\n",
    "\n",
    "def occupado(amphipods=amphipods):\n",
    "    return set([pt for _, pt, _ in amphipods])\n",
    "\n",
    "\n",
    "def destination(amphipod, amphipods=amphipods):\n",
    "    letter, (x,y), _ = amphipod\n",
    "    column = (ord(letter)-65)*2 + 3\n",
    "    \n",
    "    holes = set(range(1,3))\n",
    "    \n",
    "    for char, (col,h), _ in amphipods:\n",
    "        if (char == letter) and (col == column) and (y != h):\n",
    "            holes -= {h}\n",
    "    \n",
    "    return (column, min(holes))\n",
    "\n",
    "\n",
    "def heuristic(amphipod, amphipods=amphipods):\n",
    "    letter, (x,y), _ = amphipod\n",
    "    column = (ord(letter)-65)*2 + 3\n",
    "    \n",
    "    holes = set(range(1,3))\n",
    "    \n",
    "    for char, (col,h), _ in amphipods:\n",
    "        if (char == letter) and (col == column) and (y != h):\n",
    "            holes -= {h}\n",
    "    \n",
    "    return (column, max(holes))\n",
    "\n",
    "\n",
    "def connected(pt, occupied, spaces=spaces):\n",
    "    pts = adjacent(pt) - occupied\n",
    "    new = pts.copy()\n",
    "    \n",
    "    while new:\n",
    "        temp = set()\n",
    "        for p in new:\n",
    "            temp |= adjacent(p) - occupied\n",
    "        \n",
    "        new = temp - pts\n",
    "        pts |= temp\n",
    "    \n",
    "    return pts\n",
    "\n",
    "\n",
    "def possible(amphipod, amphipods=amphipods, spaces=spaces, doorways=doorways):\n",
    "    char, pt, moved = amphipod\n",
    "    occupied = occupado(amphipods)\n",
    "    home = destination(amphipod, amphipods)\n",
    "    conn = connected(pt, occupied, spaces)\n",
    "    poss = set()\n",
    "    \n",
    "    for x,y in conn:\n",
    "        if y < 3:\n",
    "            if (x,y) == home:\n",
    "                poss.add((x,y))\n",
    "            else:\n",
    "                continue\n",
    "        elif ((x,y) not in doorways):\n",
    "            poss.add((x,y))\n",
    "    \n",
    "    if moved:\n",
    "        return {home} if home in poss else set()\n",
    "    else:\n",
    "        return poss\n",
    "\n",
    "\n",
    "def next_states(amphipod_state, spaces=spaces, doorways=doorways):\n",
    "    new = set()\n",
    "    t, n, c, *A = amphipod_state\n",
    "    \n",
    "    for a in A:\n",
    "        letter, pt, moveable = a\n",
    "        for p in possible(a, A, spaces, doorways):\n",
    "            new_cost = c + cost(letter, pt, p)\n",
    "            new.add(\n",
    "                hash_state(\n",
    "                    (set(A) - {a}) | {(letter, p, True)}, new_cost, n+1\n",
    "                )\n",
    "            )\n",
    "    return new\n",
    "\n",
    "\n",
    "def finito(amphipods):\n",
    "    for a in amphipods:\n",
    "        _, pt, _ = a\n",
    "        if destination(a, amphipods) != pt:\n",
    "            return False\n",
    "    else:\n",
    "        return True\n",
    "    \n",
    "\n",
    "\n",
    "def hash_state(amphipods, c, n):\n",
    "    \n",
    "    t = c\n",
    "    \n",
    "    for a in amphipods:\n",
    "        char, pt, moved = a\n",
    "        t += cost(char, pt, heuristic(a, amphipods))\n",
    "    \n",
    "    return tuple([t, n, c] + sorted(amphipods))"
   ]
  },
  {
   "cell_type": "raw",
   "id": "d82f36dc-52d2-44a3-96ce-ff1a3f4cc490",
   "metadata": {},
   "source": [
    "amphipods = {('D', (7, 1), False), ('D', (9, 1), True), ('A', (9,2), False), ('B', (7,2), True)}\n",
    "amphipods = {('A', (7, 1), False)}\n",
    "first_state = hash_state(amphipods, 0, 0)"
   ]
  },
  {
   "cell_type": "raw",
   "id": "d2a48b97-8fb1-42a6-9f51-e15352b9c492",
   "metadata": {},
   "source": [
    "first_state = hash_state(amphipods, 0, 0)"
   ]
  },
  {
   "cell_type": "raw",
   "id": "7bd1dd6a-1382-4de5-b772-2f936a25e1b1",
   "metadata": {},
   "source": [
    "next_states(first_state)"
   ]
  },
  {
   "cell_type": "code",
   "execution_count": 19,
   "id": "484b6c10-58bc-4c15-830f-779d994160c6",
   "metadata": {},
   "outputs": [
    {
     "data": {
      "text/plain": [
       "{('A', (3, 1), False),\n",
       " ('A', (9, 1), False),\n",
       " ('B', (3, 2), False),\n",
       " ('B', (7, 2), False),\n",
       " ('C', (5, 2), False),\n",
       " ('C', (7, 1), False),\n",
       " ('D', (5, 1), False),\n",
       " ('D', (9, 2), False)}"
      ]
     },
     "execution_count": 19,
     "metadata": {},
     "output_type": "execute_result"
    }
   ],
   "source": [
    "amphipods"
   ]
  },
  {
   "cell_type": "code",
   "execution_count": 21,
   "id": "9a60fe88-975b-4e56-b15c-c6c573465f2e",
   "metadata": {
    "tags": []
   },
   "outputs": [
    {
     "name": "stdout",
     "output_type": "stream",
     "text": [
      "12521\n"
     ]
    }
   ],
   "source": [
    "states = PriorityQueue()\n",
    "seen = set()\n",
    "finished = False\n",
    "best = 1e10\n",
    "i = 0\n",
    "\n",
    "first_state = hash_state(amphipods, 0, 0)\n",
    "states.put(first_state)\n",
    "\n",
    "while not finished:\n",
    "    i += 1\n",
    "    state = states.get_nowait()\n",
    "    \n",
    "    if state[2] > best:\n",
    "        finished = True\n",
    "    \n",
    "    new = next_states(state)\n",
    "    \n",
    "    for n in new:\n",
    "        if n[2]==n[0]:\n",
    "            if n[2] < best:\n",
    "                fin = n\n",
    "                best = n[2]\n",
    "                break\n",
    "        elif n[3:] not in seen:\n",
    "            seen.add(n[3:])\n",
    "            states.put(n)\n",
    "        else:\n",
    "            pass\n",
    "    \n",
    "print(best)"
   ]
  },
  {
   "cell_type": "code",
   "execution_count": 22,
   "id": "652683f8-7b53-4b7a-bdfa-fecd25233c63",
   "metadata": {},
   "outputs": [
    {
     "data": {
      "text/plain": [
       "25080"
      ]
     },
     "execution_count": 22,
     "metadata": {},
     "output_type": "execute_result"
    }
   ],
   "source": [
    "i"
   ]
  },
  {
   "cell_type": "code",
   "execution_count": 10,
   "id": "36dd8abc-48af-4255-872d-98870fef3825",
   "metadata": {},
   "outputs": [
    {
     "data": {
      "text/plain": [
       "18874"
      ]
     },
     "execution_count": 10,
     "metadata": {},
     "output_type": "execute_result"
    }
   ],
   "source": [
    "states.qsize()"
   ]
  },
  {
   "cell_type": "code",
   "execution_count": 9,
   "id": "46b4a356-0e57-4deb-a920-6a26abe849a7",
   "metadata": {},
   "outputs": [
    {
     "data": {
      "text/plain": [
       "(12541,\n",
       " 10,\n",
       " 12541,\n",
       " ('A', (3, 1), False),\n",
       " ('A', (3, 2), True),\n",
       " ('B', (5, 1), True),\n",
       " ('B', (5, 2), True),\n",
       " ('C', (7, 1), False),\n",
       " ('C', (7, 2), True),\n",
       " ('D', (9, 1), True),\n",
       " ('D', (9, 2), True))"
      ]
     },
     "execution_count": 9,
     "metadata": {},
     "output_type": "execute_result"
    }
   ],
   "source": [
    "fin"
   ]
  },
  {
   "cell_type": "code",
   "execution_count": 25,
   "id": "0b6e5e01-0b1a-4c1a-8f8c-81c1962a487d",
   "metadata": {},
   "outputs": [],
   "source": [
    "first_state = hash_state(amphipods, 0, 0)"
   ]
  },
  {
   "cell_type": "code",
   "execution_count": 26,
   "id": "43df2c85-e822-44ce-b58e-44bfee186f9a",
   "metadata": {},
   "outputs": [
    {
     "data": {
      "text/plain": [
       "{(8590,\n",
       "  1,\n",
       "  20,\n",
       "  ('A', (3, 1), False),\n",
       "  ('A', (9, 1), False),\n",
       "  ('B', (3, 2), False),\n",
       "  ('B', (6, 3), True),\n",
       "  ('C', (5, 2), False),\n",
       "  ('C', (7, 1), False),\n",
       "  ('D', (5, 1), False),\n",
       "  ('D', (9, 2), False)),\n",
       " (8590,\n",
       "  1,\n",
       "  20,\n",
       "  ('A', (3, 1), False),\n",
       "  ('A', (9, 1), False),\n",
       "  ('B', (4, 3), True),\n",
       "  ('B', (7, 2), False),\n",
       "  ('C', (5, 2), False),\n",
       "  ('C', (7, 1), False),\n",
       "  ('D', (5, 1), False),\n",
       "  ('D', (9, 2), False)),\n",
       " (8590,\n",
       "  1,\n",
       "  200,\n",
       "  ('A', (3, 1), False),\n",
       "  ('A', (9, 1), False),\n",
       "  ('B', (3, 2), False),\n",
       "  ('B', (7, 2), False),\n",
       "  ('C', (6, 3), True),\n",
       "  ('C', (7, 1), False),\n",
       "  ('D', (5, 1), False),\n",
       "  ('D', (9, 2), False)),\n",
       " (8610,\n",
       "  1,\n",
       "  20,\n",
       "  ('A', (3, 1), False),\n",
       "  ('A', (9, 1), False),\n",
       "  ('B', (2, 3), True),\n",
       "  ('B', (7, 2), False),\n",
       "  ('C', (5, 2), False),\n",
       "  ('C', (7, 1), False),\n",
       "  ('D', (5, 1), False),\n",
       "  ('D', (9, 2), False)),\n",
       " (8610,\n",
       "  1,\n",
       "  20,\n",
       "  ('A', (3, 1), False),\n",
       "  ('A', (9, 1), False),\n",
       "  ('B', (3, 2), False),\n",
       "  ('B', (8, 3), True),\n",
       "  ('C', (5, 2), False),\n",
       "  ('C', (7, 1), False),\n",
       "  ('D', (5, 1), False),\n",
       "  ('D', (9, 2), False)),\n",
       " (8610,\n",
       "  1,\n",
       "  40,\n",
       "  ('A', (3, 1), False),\n",
       "  ('A', (9, 1), False),\n",
       "  ('B', (3, 2), False),\n",
       "  ('B', (4, 3), True),\n",
       "  ('C', (5, 2), False),\n",
       "  ('C', (7, 1), False),\n",
       "  ('D', (5, 1), False),\n",
       "  ('D', (9, 2), False)),\n",
       " (8610,\n",
       "  1,\n",
       "  40,\n",
       "  ('A', (3, 1), False),\n",
       "  ('A', (9, 1), False),\n",
       "  ('B', (6, 3), True),\n",
       "  ('B', (7, 2), False),\n",
       "  ('C', (5, 2), False),\n",
       "  ('C', (7, 1), False),\n",
       "  ('D', (5, 1), False),\n",
       "  ('D', (9, 2), False)),\n",
       " (8630,\n",
       "  1,\n",
       "  30,\n",
       "  ('A', (3, 1), False),\n",
       "  ('A', (9, 1), False),\n",
       "  ('B', (1, 3), True),\n",
       "  ('B', (7, 2), False),\n",
       "  ('C', (5, 2), False),\n",
       "  ('C', (7, 1), False),\n",
       "  ('D', (5, 1), False),\n",
       "  ('D', (9, 2), False)),\n",
       " (8650,\n",
       "  1,\n",
       "  40,\n",
       "  ('A', (3, 1), False),\n",
       "  ('A', (9, 1), False),\n",
       "  ('B', (3, 2), False),\n",
       "  ('B', (10, 3), True),\n",
       "  ('C', (5, 2), False),\n",
       "  ('C', (7, 1), False),\n",
       "  ('D', (5, 1), False),\n",
       "  ('D', (9, 2), False)),\n",
       " (8650,\n",
       "  1,\n",
       "  60,\n",
       "  ('A', (3, 1), False),\n",
       "  ('A', (9, 1), False),\n",
       "  ('B', (2, 3), True),\n",
       "  ('B', (3, 2), False),\n",
       "  ('C', (5, 2), False),\n",
       "  ('C', (7, 1), False),\n",
       "  ('D', (5, 1), False),\n",
       "  ('D', (9, 2), False)),\n",
       " (8650,\n",
       "  1,\n",
       "  60,\n",
       "  ('A', (3, 1), False),\n",
       "  ('A', (9, 1), False),\n",
       "  ('B', (7, 2), False),\n",
       "  ('B', (8, 3), True),\n",
       "  ('C', (5, 2), False),\n",
       "  ('C', (7, 1), False),\n",
       "  ('D', (5, 1), False),\n",
       "  ('D', (9, 2), False)),\n",
       " (8670,\n",
       "  1,\n",
       "  50,\n",
       "  ('A', (3, 1), False),\n",
       "  ('A', (9, 1), False),\n",
       "  ('B', (3, 2), False),\n",
       "  ('B', (11, 3), True),\n",
       "  ('C', (5, 2), False),\n",
       "  ('C', (7, 1), False),\n",
       "  ('D', (5, 1), False),\n",
       "  ('D', (9, 2), False)),\n",
       " (8670,\n",
       "  1,\n",
       "  70,\n",
       "  ('A', (3, 1), False),\n",
       "  ('A', (9, 1), False),\n",
       "  ('B', (1, 3), True),\n",
       "  ('B', (3, 2), False),\n",
       "  ('C', (5, 2), False),\n",
       "  ('C', (7, 1), False),\n",
       "  ('D', (5, 1), False),\n",
       "  ('D', (9, 2), False)),\n",
       " (8690,\n",
       "  1,\n",
       "  80,\n",
       "  ('A', (3, 1), False),\n",
       "  ('A', (9, 1), False),\n",
       "  ('B', (7, 2), False),\n",
       "  ('B', (10, 3), True),\n",
       "  ('C', (5, 2), False),\n",
       "  ('C', (7, 1), False),\n",
       "  ('D', (5, 1), False),\n",
       "  ('D', (9, 2), False)),\n",
       " (8710,\n",
       "  1,\n",
       "  90,\n",
       "  ('A', (3, 1), False),\n",
       "  ('A', (9, 1), False),\n",
       "  ('B', (7, 2), False),\n",
       "  ('B', (11, 3), True),\n",
       "  ('C', (5, 2), False),\n",
       "  ('C', (7, 1), False),\n",
       "  ('D', (5, 1), False),\n",
       "  ('D', (9, 2), False)),\n",
       " (8790,\n",
       "  1,\n",
       "  200,\n",
       "  ('A', (3, 1), False),\n",
       "  ('A', (9, 1), False),\n",
       "  ('B', (3, 2), False),\n",
       "  ('B', (7, 2), False),\n",
       "  ('C', (4, 3), True),\n",
       "  ('C', (7, 1), False),\n",
       "  ('D', (5, 1), False),\n",
       "  ('D', (9, 2), False)),\n",
       " (8790,\n",
       "  1,\n",
       "  400,\n",
       "  ('A', (3, 1), False),\n",
       "  ('A', (9, 1), False),\n",
       "  ('B', (3, 2), False),\n",
       "  ('B', (7, 2), False),\n",
       "  ('C', (7, 1), False),\n",
       "  ('C', (8, 3), True),\n",
       "  ('D', (5, 1), False),\n",
       "  ('D', (9, 2), False)),\n",
       " (9190,\n",
       "  1,\n",
       "  400,\n",
       "  ('A', (3, 1), False),\n",
       "  ('A', (9, 1), False),\n",
       "  ('B', (3, 2), False),\n",
       "  ('B', (7, 2), False),\n",
       "  ('C', (2, 3), True),\n",
       "  ('C', (7, 1), False),\n",
       "  ('D', (5, 1), False),\n",
       "  ('D', (9, 2), False)),\n",
       " (9190,\n",
       "  1,\n",
       "  600,\n",
       "  ('A', (3, 1), False),\n",
       "  ('A', (9, 1), False),\n",
       "  ('B', (3, 2), False),\n",
       "  ('B', (7, 2), False),\n",
       "  ('C', (7, 1), False),\n",
       "  ('C', (10, 3), True),\n",
       "  ('D', (5, 1), False),\n",
       "  ('D', (9, 2), False)),\n",
       " (9390,\n",
       "  1,\n",
       "  500,\n",
       "  ('A', (3, 1), False),\n",
       "  ('A', (9, 1), False),\n",
       "  ('B', (3, 2), False),\n",
       "  ('B', (7, 2), False),\n",
       "  ('C', (1, 3), True),\n",
       "  ('C', (7, 1), False),\n",
       "  ('D', (5, 1), False),\n",
       "  ('D', (9, 2), False)),\n",
       " (9390,\n",
       "  1,\n",
       "  700,\n",
       "  ('A', (3, 1), False),\n",
       "  ('A', (9, 1), False),\n",
       "  ('B', (3, 2), False),\n",
       "  ('B', (7, 2), False),\n",
       "  ('C', (7, 1), False),\n",
       "  ('C', (11, 3), True),\n",
       "  ('D', (5, 1), False),\n",
       "  ('D', (9, 2), False)),\n",
       " (11590,\n",
       "  1,\n",
       "  2000,\n",
       "  ('A', (3, 1), False),\n",
       "  ('A', (9, 1), False),\n",
       "  ('B', (3, 2), False),\n",
       "  ('B', (7, 2), False),\n",
       "  ('C', (5, 2), False),\n",
       "  ('C', (7, 1), False),\n",
       "  ('D', (5, 1), False),\n",
       "  ('D', (8, 3), True)),\n",
       " (11590,\n",
       "  1,\n",
       "  2000,\n",
       "  ('A', (3, 1), False),\n",
       "  ('A', (9, 1), False),\n",
       "  ('B', (3, 2), False),\n",
       "  ('B', (7, 2), False),\n",
       "  ('C', (5, 2), False),\n",
       "  ('C', (7, 1), False),\n",
       "  ('D', (5, 1), False),\n",
       "  ('D', (10, 3), True)),\n",
       " (13590,\n",
       "  1,\n",
       "  3000,\n",
       "  ('A', (3, 1), False),\n",
       "  ('A', (9, 1), False),\n",
       "  ('B', (3, 2), False),\n",
       "  ('B', (7, 2), False),\n",
       "  ('C', (5, 2), False),\n",
       "  ('C', (7, 1), False),\n",
       "  ('D', (5, 1), False),\n",
       "  ('D', (11, 3), True)),\n",
       " (15590,\n",
       "  1,\n",
       "  4000,\n",
       "  ('A', (3, 1), False),\n",
       "  ('A', (9, 1), False),\n",
       "  ('B', (3, 2), False),\n",
       "  ('B', (7, 2), False),\n",
       "  ('C', (5, 2), False),\n",
       "  ('C', (7, 1), False),\n",
       "  ('D', (5, 1), False),\n",
       "  ('D', (6, 3), True)),\n",
       " (19590,\n",
       "  1,\n",
       "  6000,\n",
       "  ('A', (3, 1), False),\n",
       "  ('A', (9, 1), False),\n",
       "  ('B', (3, 2), False),\n",
       "  ('B', (7, 2), False),\n",
       "  ('C', (5, 2), False),\n",
       "  ('C', (7, 1), False),\n",
       "  ('D', (4, 3), True),\n",
       "  ('D', (5, 1), False)),\n",
       " (23590,\n",
       "  1,\n",
       "  8000,\n",
       "  ('A', (3, 1), False),\n",
       "  ('A', (9, 1), False),\n",
       "  ('B', (3, 2), False),\n",
       "  ('B', (7, 2), False),\n",
       "  ('C', (5, 2), False),\n",
       "  ('C', (7, 1), False),\n",
       "  ('D', (2, 3), True),\n",
       "  ('D', (5, 1), False)),\n",
       " (25590,\n",
       "  1,\n",
       "  9000,\n",
       "  ('A', (3, 1), False),\n",
       "  ('A', (9, 1), False),\n",
       "  ('B', (3, 2), False),\n",
       "  ('B', (7, 2), False),\n",
       "  ('C', (5, 2), False),\n",
       "  ('C', (7, 1), False),\n",
       "  ('D', (1, 3), True),\n",
       "  ('D', (5, 1), False))}"
      ]
     },
     "execution_count": 26,
     "metadata": {},
     "output_type": "execute_result"
    }
   ],
   "source": [
    "next_states(first_state)"
   ]
  },
  {
   "cell_type": "markdown",
   "id": "8298943e-56d8-415a-9fbf-ef52c8ba0650",
   "metadata": {},
   "source": [
    "---\n",
    "\n",
    "## Part Two\n",
    "\n",
    "<!-- Insert Markdown Here -->\n",
    "\n",
    "---"
   ]
  },
  {
   "cell_type": "code",
   "execution_count": 41,
   "id": "fccd3734-8555-4fe3-8a4e-161b836a8e21",
   "metadata": {},
   "outputs": [],
   "source": [
    "new_map = \"\"\"#############\n",
    "#...........#\n",
    "###C#B#A#D###\n",
    "  #D#C#B#A#\n",
    "  #D#B#A#C#\n",
    "  #B#C#D#A#\n",
    "  #########\"\"\"\n",
    "\n",
    "\n",
    "spaces = set()\n",
    "amphipods = set()\n",
    "for y, row in enumerate(reversed(new_map.split('\\n'))):\n",
    "    for x, char in enumerate(row):\n",
    "        if char not in ('#', ' ', '\\n'):\n",
    "            spaces.add((x,y))\n",
    "            if char != '.':\n",
    "                # An amphipod is a (char, (x,y), moved) tuple where:\n",
    "                #    * char is the letter representation of the amphipod (A,B,C,D)\n",
    "                #    * (x,y) is its current position\n",
    "                #    * moved is a boolean indicating if it has been moved yet\n",
    "                amphipods.add((char, (x, y), False))"
   ]
  },
  {
   "cell_type": "code",
   "execution_count": 42,
   "id": "614789be-8ba8-4e8d-b1c7-08ab77211ef3",
   "metadata": {},
   "outputs": [],
   "source": [
    "def cost(char, from_, to_):\n",
    "    \"\"\"\n",
    "    Cost needs to be a little weird because it's not the straight manhattan distance\n",
    "    \"\"\"\n",
    "    xdist = abs(from_[0]-to_[0])\n",
    "    if xdist == 0:\n",
    "        ydist = abs(from_[1]-to_[1])\n",
    "    else:\n",
    "        ydist = abs(5 - from_[1]) + abs(5 - to_[1])\n",
    "    \n",
    "    return energy[char]*(xdist+ydist)\n",
    "\n",
    "def adjacent(pt, spaces=spaces):\n",
    "    \"\"\"pt is an x,y pair\"\"\"\n",
    "    adj = []\n",
    "    x, y = pt\n",
    "    \n",
    "    if (p:=(x-1, y)) in spaces:\n",
    "        adj.append(p)\n",
    "    if (p:=(x+1, y)) in spaces:\n",
    "        adj.append(p)\n",
    "    if (p:=(x, y-1)) in spaces:\n",
    "        adj.append(p)\n",
    "    if (p:=(x, y+1)) in spaces:\n",
    "        adj.append(p)\n",
    "    \n",
    "    return set(adj)\n",
    "\n",
    "\n",
    "doorways = set([p for p in spaces if len(adjacent(p))==3])\n",
    "\n",
    "\n",
    "def occupado(amphipods=amphipods):\n",
    "    return set([pt for _, pt, _ in amphipods])\n",
    "\n",
    "def destination(amphipod, amphipods=amphipods):\n",
    "    letter, (x,y), _ = amphipod\n",
    "    column = (ord(letter)-65)*2 + 3\n",
    "    \n",
    "    holes = set(range(1,5))\n",
    "    \n",
    "    for char, (col,h), _ in amphipods:\n",
    "        if (char == letter) and (col == column) and (y != h):\n",
    "            holes -= {h}\n",
    "    \n",
    "    return (column, min(holes))\n",
    "\n",
    "\n",
    "def heuristic(amphipod, amphipods=amphipods):\n",
    "    letter, (x,y), _ = amphipod\n",
    "    column = (ord(letter)-65)*2 + 3\n",
    "    \n",
    "    holes = set(range(1,5))\n",
    "    \n",
    "    for char, (col,h), _ in amphipods:\n",
    "        if (char == letter) and (col == column) and (y != h):\n",
    "            holes -= {h}\n",
    "    try:\n",
    "        return (column, min(holes))\n",
    "    except:\n",
    "        print(amphipod)\n",
    "        print(holes)\n",
    "        print(amphipods)\n",
    "        print()\n",
    "        raise Exception()\n",
    "\n",
    "\n",
    "def connected(pt, occupied, spaces=spaces):\n",
    "    pts = adjacent(pt) - occupied\n",
    "    new = pts.copy()\n",
    "    \n",
    "    while new:\n",
    "        temp = set()\n",
    "        for p in new:\n",
    "            temp |= adjacent(p) - occupied\n",
    "        \n",
    "        new = temp - pts\n",
    "        pts |= temp\n",
    "    \n",
    "    return pts\n",
    "\n",
    "\n",
    "def possible(amphipod, amphipods=amphipods, spaces=spaces, doorways=doorways):\n",
    "    char, pt, moved = amphipod\n",
    "    occupied = occupado(amphipods)\n",
    "    home = destination(amphipod, amphipods)\n",
    "    conn = connected(pt, occupied, spaces)\n",
    "    poss = set()\n",
    "    \n",
    "    for x,y in conn:\n",
    "        if y < 5:\n",
    "            if (x,y) == home:\n",
    "                poss.add((x,y))\n",
    "            else:\n",
    "                continue\n",
    "        elif ((x,y) not in doorways):\n",
    "            poss.add((x,y))\n",
    "    \n",
    "    if moved:\n",
    "        return {home} if home in poss else set()\n",
    "    else:\n",
    "        return poss\n",
    "\n",
    "\n",
    "def next_states(amphipod_state, spaces=spaces, doorways=doorways):\n",
    "    new = set()\n",
    "    t, n, c, *A = amphipod_state\n",
    "    \n",
    "    for a in A:\n",
    "        letter, pt, moveable = a\n",
    "        for p in possible(a, A, spaces, doorways):\n",
    "            new_cost = c + cost(letter, pt, p)\n",
    "            new.add(\n",
    "                hash_state(\n",
    "                    (set(A) - {a}) | {(letter, p, True)}, new_cost, n+1\n",
    "                )\n",
    "            )\n",
    "    return new\n",
    "\n",
    "\n",
    "def finito(amphipods):\n",
    "    for a in amphipods:\n",
    "        _, pt, _ = a\n",
    "        if destination(a, amphipods) != pt:\n",
    "            return False\n",
    "    else:\n",
    "        return True\n",
    "    \n",
    "\n",
    "\n",
    "def hash_state(amphipods, c, n):\n",
    "    \n",
    "    t = c\n",
    "    \n",
    "    for a in amphipods:\n",
    "        char, pt, moved = a\n",
    "        t += cost(char, pt, heuristic(a, amphipods))\n",
    "    \n",
    "    return tuple([t, n, c] + sorted(amphipods))"
   ]
  },
  {
   "cell_type": "raw",
   "id": "3bc5e919-f860-4536-89cc-58d494b305fd",
   "metadata": {},
   "source": []
  },
  {
   "cell_type": "code",
   "execution_count": 29,
   "id": "2fc8edf8-5a5c-47e1-ba98-7c94b6f1c394",
   "metadata": {
    "tags": []
   },
   "outputs": [],
   "source": [
    "amphipods = {('D', (7, 1), False), ('D', (9, 1), True), ('A', (9,2), False), ('B', (7,2), True)}\n",
    "amphipods = {('A', (5, 1), False)}\n",
    "first_state = hash_state(amphipods, 0, 0)"
   ]
  },
  {
   "cell_type": "code",
   "execution_count": 30,
   "id": "84a97f98-71f5-4d2b-bb68-2abac85facc0",
   "metadata": {},
   "outputs": [],
   "source": [
    "first_state = hash_state(amphipods, 0, 0)"
   ]
  },
  {
   "cell_type": "code",
   "execution_count": 31,
   "id": "f875b485-d907-40bf-8af7-e6ff14adb345",
   "metadata": {},
   "outputs": [
    {
     "data": {
      "text/plain": [
       "{(10, 1, 5, ('A', (4, 5), True)),\n",
       " (10, 1, 10, ('A', (3, 1), True)),\n",
       " (12, 1, 5, ('A', (6, 5), True)),\n",
       " (12, 1, 7, ('A', (2, 5), True)),\n",
       " (14, 1, 8, ('A', (1, 5), True)),\n",
       " (16, 1, 7, ('A', (8, 5), True)),\n",
       " (20, 1, 9, ('A', (10, 5), True)),\n",
       " (22, 1, 10, ('A', (11, 5), True))}"
      ]
     },
     "execution_count": 31,
     "metadata": {},
     "output_type": "execute_result"
    }
   ],
   "source": [
    "next_states(first_state)"
   ]
  },
  {
   "cell_type": "code",
   "execution_count": 32,
   "id": "7c801cff-3b89-4266-a23e-caa25a7483f4",
   "metadata": {},
   "outputs": [
    {
     "data": {
      "text/plain": [
       "(3, 1)"
      ]
     },
     "execution_count": 32,
     "metadata": {},
     "output_type": "execute_result"
    }
   ],
   "source": [
    "destination(list(amphipods)[0], amphipods)"
   ]
  },
  {
   "cell_type": "code",
   "execution_count": 33,
   "id": "7ec88f81-424e-49b0-bfdb-4fc543b6830e",
   "metadata": {},
   "outputs": [
    {
     "data": {
      "text/plain": [
       "False"
      ]
     },
     "execution_count": 33,
     "metadata": {},
     "output_type": "execute_result"
    }
   ],
   "source": [
    "finito(amphipods)"
   ]
  },
  {
   "cell_type": "code",
   "execution_count": 43,
   "id": "87ea3d8c-1c63-42b6-a484-2bb6a386d768",
   "metadata": {},
   "outputs": [],
   "source": [
    "import time"
   ]
  },
  {
   "cell_type": "code",
   "execution_count": 44,
   "id": "ae4df3d2-feb1-4001-9992-d4fa8fa97c56",
   "metadata": {},
   "outputs": [
    {
     "name": "stdout",
     "output_type": "stream",
     "text": [
      "17.63256812095642\n"
     ]
    }
   ],
   "source": [
    "t = time.time()\n",
    "\n",
    "states = PriorityQueue()\n",
    "seen = set()\n",
    "finished = False\n",
    "best = 1e10\n",
    "\n",
    "first_state = hash_state(amphipods, 0, 0)\n",
    "states.put(first_state)\n",
    "\n",
    "i = 0\n",
    "\n",
    "while not finished:\n",
    "    i += 1\n",
    "    state = states.get_nowait()\n",
    "        \n",
    "    if state[2] >= best:\n",
    "        finished = True\n",
    "    \n",
    "    new = next_states(state)\n",
    "    for n in new:\n",
    "        if finito(n[3:]):\n",
    "            if n[2] < best:\n",
    "                fin = n\n",
    "                best = n[2]\n",
    "            break\n",
    "        elif n[3:] not in seen:\n",
    "            seen.add(n[3:])\n",
    "            states.put(n)\n",
    "        else:\n",
    "            pass\n",
    "\n",
    "print(time.time() - t)"
   ]
  },
  {
   "cell_type": "code",
   "execution_count": 16,
   "id": "8e89f0c1-9689-4a8e-9c0a-260fd6963614",
   "metadata": {},
   "outputs": [
    {
     "data": {
      "text/plain": [
       "90768"
      ]
     },
     "execution_count": 16,
     "metadata": {},
     "output_type": "execute_result"
    }
   ],
   "source": [
    "i"
   ]
  },
  {
   "cell_type": "code",
   "execution_count": 15,
   "id": "f0769052-d23f-45d9-9be7-00b126ed82f8",
   "metadata": {},
   "outputs": [
    {
     "data": {
      "text/plain": [
       "(49532,\n",
       " 30,\n",
       " 49532,\n",
       " ('A', (3, 1), True),\n",
       " ('A', (3, 2), True),\n",
       " ('A', (3, 3), True),\n",
       " ('A', (3, 4), True),\n",
       " ('B', (5, 1), True),\n",
       " ('B', (5, 2), True),\n",
       " ('B', (5, 3), True),\n",
       " ('B', (5, 4), True),\n",
       " ('C', (7, 1), True),\n",
       " ('C', (7, 2), True),\n",
       " ('C', (7, 3), True),\n",
       " ('C', (7, 4), True),\n",
       " ('D', (9, 1), True),\n",
       " ('D', (9, 2), True),\n",
       " ('D', (9, 3), True),\n",
       " ('D', (9, 4), True))"
      ]
     },
     "execution_count": 15,
     "metadata": {},
     "output_type": "execute_result"
    }
   ],
   "source": [
    "fin"
   ]
  },
  {
   "cell_type": "code",
   "execution_count": 406,
   "id": "2739a038-0abf-4571-9a19-c0d7d6e138fa",
   "metadata": {},
   "outputs": [
    {
     "data": {
      "text/plain": [
       "True"
      ]
     },
     "execution_count": 406,
     "metadata": {},
     "output_type": "execute_result"
    }
   ],
   "source": [
    "finito(fin[3:])"
   ]
  },
  {
   "cell_type": "code",
   "execution_count": 407,
   "id": "a26b41ee-6445-4b26-a562-48f4686f54f3",
   "metadata": {},
   "outputs": [
    {
     "data": {
      "text/plain": [
       "(43791,\n",
       " 24,\n",
       " 43791,\n",
       " ('A', (3, 1), False),\n",
       " ('A', (3, 2), True),\n",
       " ('A', (3, 3), True),\n",
       " ('A', (3, 4), True),\n",
       " ('B', (5, 1), True),\n",
       " ('B', (5, 2), True),\n",
       " ('B', (5, 3), True),\n",
       " ('B', (5, 4), True),\n",
       " ('C', (7, 1), False),\n",
       " ('C', (7, 2), True),\n",
       " ('C', (7, 3), True),\n",
       " ('C', (7, 4), True),\n",
       " ('D', (9, 1), True),\n",
       " ('D', (9, 2), True),\n",
       " ('D', (9, 3), True),\n",
       " ('D', (9, 4), True))"
      ]
     },
     "execution_count": 416,
     "metadata": {},
     "output_type": "execute_result"
    }
   ],
   "source": [
    "fin"
   ]
  },
  {
   "cell_type": "code",
   "execution_count": 330,
   "id": "507e40c0-25b5-4d3a-a118-e3c7d4456c76",
   "metadata": {},
   "outputs": [
    {
     "data": {
      "text/plain": [
       "True"
      ]
     },
     "execution_count": 330,
     "metadata": {},
     "output_type": "execute_result"
    }
   ],
   "source": [
    "list(next_states(list(new)[0]))[0][3:] in seen"
   ]
  },
  {
   "cell_type": "code",
   "execution_count": 315,
   "id": "6a38b629-0a3a-4dc6-9028-554a4d274036",
   "metadata": {},
   "outputs": [
    {
     "data": {
      "text/plain": [
       "{('A', (7, 1), False),\n",
       " ('A', (7, 4), False),\n",
       " ('A', (9, 2), False),\n",
       " ('A', (9, 3), False),\n",
       " ('B', (3, 3), False),\n",
       " ('B', (5, 1), False),\n",
       " ('B', (5, 4), False),\n",
       " ('B', (7, 2), False),\n",
       " ('C', (3, 4), False),\n",
       " ('C', (5, 2), False),\n",
       " ('C', (5, 3), False),\n",
       " ('C', (9, 1), False),\n",
       " ('D', (3, 1), False),\n",
       " ('D', (3, 2), False),\n",
       " ('D', (7, 3), False),\n",
       " ('D', (9, 4), False)}"
      ]
     },
     "execution_count": 315,
     "metadata": {},
     "output_type": "execute_result"
    }
   ],
   "source": [
    "amphipods"
   ]
  },
  {
   "cell_type": "markdown",
   "id": "af4634e7-9951-4690-8ee5-5eac17d7df9f",
   "metadata": {},
   "source": [
    "---"
   ]
  }
 ],
 "metadata": {
  "kernelspec": {
   "display_name": "AoC2021",
   "language": "python",
   "name": "aoc2021"
  },
  "language_info": {
   "codemirror_mode": {
    "name": "ipython",
    "version": 3
   },
   "file_extension": ".py",
   "mimetype": "text/x-python",
   "name": "python",
   "nbconvert_exporter": "python",
   "pygments_lexer": "ipython3",
   "version": "3.8.2"
  }
 },
 "nbformat": 4,
 "nbformat_minor": 5
}
