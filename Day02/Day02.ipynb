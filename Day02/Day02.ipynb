{
 "cells": [
  {
   "cell_type": "markdown",
   "id": "d54cc080-fa2f-437d-a685-1ba4bb14997a",
   "metadata": {
    "tags": []
   },
   "source": [
    "# Day 2: Dive!\n",
    "\n",
    "## Part One\n",
    "\n",
    "Now, you need to figure out how to pilot this thing.\n",
    "\n",
    "It seems like the submarine can take a series of commands like `forward 1`, `down 2`, or `up 3`:\n",
    "\n",
    "* `forward X` increases the horizontal position by `X` units.\n",
    "\n",
    "* `down X` increases the depth by `X` units.\n",
    "\n",
    "* `up X` decreases the depth by `X` units.\n",
    "\n",
    "Note that since you're on a submarine, `down` and `up` affect your depth, and so they have the opposite result of what you might expect.\n",
    "\n",
    "The submarine seems to already have a planned course (your puzzle input). You should probably figure out where it's going. For example:\n",
    "\n",
    "```\n",
    "forward 5\n",
    "down 5\n",
    "forward 8\n",
    "up 3\n",
    "down 8\n",
    "forward 2\n",
    "```\n",
    "\n",
    "Your horizontal position and depth both start at `0`. The steps above would then modify them as follows:\n",
    "\n",
    "* `forward 5` adds `5` to your horizontal position, a total of `5`.\n",
    "\n",
    "* `down 5` adds `5` to your depth, resulting in a value of `5`.\n",
    "\n",
    "* `forward 8` adds `8` to your horizontal position, a total of `13`.\n",
    "\n",
    "* `up 3` decreases your depth by `3`, resulting in a value of `2`.\n",
    "\n",
    "* `down 8` adds `8` to your depth, resulting in a value of `10`.\n",
    "\n",
    "* `forward 2` adds `2` to your horizontal position, a total of `15`.\n",
    "\n",
    "After following these instructions, you would have a horizontal position of `15` and a depth of `10`. (Multiplying these together produces `150`.)\n",
    "\n",
    "Calculate the horizontal position and depth you would have after following the planned course. What do you get if you multiply your final horizontal position by your final depth?\n",
    "\n",
    "---"
   ]
  },
  {
   "cell_type": "code",
   "execution_count": 1,
   "id": "f77b5498-b573-4b92-9d2f-036b61614d64",
   "metadata": {},
   "outputs": [],
   "source": [
    "# Initialise\n",
    "p = lambda v: (v[0][0], int(v[1]))\n",
    "inputs = [p(i[:-1].split(' ')) for i in open('Day02.in').readlines()]\n",
    "\n",
    "depth = pos = 0"
   ]
  },
  {
   "cell_type": "code",
   "execution_count": 2,
   "id": "888c8443-207d-4575-876e-90a560ce83d8",
   "metadata": {},
   "outputs": [
    {
     "name": "stdout",
     "output_type": "stream",
     "text": [
      "Depth: 1049, Position: 1944, Solution: 2039256\n"
     ]
    }
   ],
   "source": [
    "for c, n in inputs:\n",
    "    if c == 'f':\n",
    "        pos += n\n",
    "    else:\n",
    "        depth += n * (1 if c == 'd' else -1)\n",
    "\n",
    "# Solution\n",
    "print(f\"Depth: {depth}, Position: {pos}, Solution: {depth*pos}\")"
   ]
  },
  {
   "cell_type": "markdown",
   "id": "98037068-8740-42c3-a5c5-564aec84f1a2",
   "metadata": {
    "tags": []
   },
   "source": [
    "---\n",
    "\n",
    "## Part Two\n",
    "\n",
    "Based on your calculations, the planned course doesn't seem to make any sense. You find the submarine manual and discover that the process is actually slightly more complicated.\n",
    "\n",
    "In addition to horizontal position and depth, you'll also need to track a third value, aim, which also starts at `0`. The commands also mean something entirely different than you first thought:\n",
    "\n",
    "* `down X` increases your aim by `X` units.\n",
    "\n",
    "* `up X` decreases your aim by `X` units.\n",
    "\n",
    "* `forward X` does two things:\n",
    "    * It increases your horizontal position by `X` units.\n",
    "    * It increases your depth by your aim multiplied by `X`.\n",
    "   \n",
    "Again note that since you're on a submarine, down and up do the opposite of what you might expect: \"down\" means aiming in the positive direction.\n",
    "\n",
    "Now, the above example does something different:\n",
    "\n",
    "* `forward 5` adds `5` to your horizontal position, a total of `5`. Because your aim is `0`, your depth does not change.\n",
    "\n",
    "* `down 5` adds `5` to your aim, resulting in a value of `5`.\n",
    "\n",
    "* `forward 8` adds `8` to your horizontal position, a total of `13`. Because your aim is `5`, your depth increases by `8*5=40`.\n",
    "\n",
    "* `up 3` decreases your aim by `3`, resulting in a value of `2`.\n",
    "\n",
    "* `down 8` adds `8` to your aim, resulting in a value of `10`.\n",
    "\n",
    "* `forward 2` adds `2` to your horizontal position, a total of `15`. Because your aim is `10`, your depth increases by `2*10=20` to a total of `60`.\n",
    "\n",
    "After following these new instructions, you would have a horizontal position of `15` and a depth of `60`. (Multiplying these produces `900`.)\n",
    "\n",
    "Using this new interpretation of the commands, calculate the horizontal position and depth you would have after following the planned course. What do you get if you multiply your final horizontal position by your final depth?\n",
    "\n",
    "---"
   ]
  },
  {
   "cell_type": "code",
   "execution_count": 3,
   "id": "2388ecdf-c3c9-4bb0-8660-b619d83ecfcf",
   "metadata": {},
   "outputs": [
    {
     "name": "stdout",
     "output_type": "stream",
     "text": [
      "Aim: 1049, Depth: 954969, Position: 1944, Solution: 1856459736\n"
     ]
    }
   ],
   "source": [
    "# Initialise\n",
    "depth = pos = aim = 0\n",
    "\n",
    "for c, n in inputs:\n",
    "    if c == 'f':\n",
    "        pos += n\n",
    "        depth += n * aim\n",
    "    else:\n",
    "        aim += n * (1 if c == 'd' else -1)\n",
    "\n",
    "# Solution\n",
    "print(f\"Aim: {aim}, Depth: {depth}, Position: {pos}, Solution: {depth*pos}\")"
   ]
  },
  {
   "cell_type": "markdown",
   "id": "78b4f6c3-6dd5-483e-b40a-c96aca93666f",
   "metadata": {},
   "source": [
    "---"
   ]
  }
 ],
 "metadata": {
  "kernelspec": {
   "display_name": "AoC2021",
   "language": "python",
   "name": "aoc2021"
  },
  "language_info": {
   "codemirror_mode": {
    "name": "ipython",
    "version": 3
   },
   "file_extension": ".py",
   "mimetype": "text/x-python",
   "name": "python",
   "nbconvert_exporter": "python",
   "pygments_lexer": "ipython3",
   "version": "3.8.2"
  }
 },
 "nbformat": 4,
 "nbformat_minor": 5
}
