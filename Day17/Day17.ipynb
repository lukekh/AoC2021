{
 "cells": [
  {
   "cell_type": "markdown",
   "id": "93cc57dd-86e1-4d8a-a2d5-168474b09b4a",
   "metadata": {},
   "source": [
    "# Day 17\n",
    "\n",
    "## Part One\n",
    "\n",
    "<!-- Insert Markdown Here -->\n",
    "\n",
    "THIS CODE IS SO JANK BUT I NEED TO CATCH UP\n",
    "\n",
    "---"
   ]
  },
  {
   "cell_type": "code",
   "execution_count": 374,
   "id": "a018da0b-b0fe-4046-aff7-a5a7c26b9b17",
   "metadata": {},
   "outputs": [],
   "source": [
    "import math\n",
    "with open('Day17.in') as f:\n",
    "    inputs = f.read()[:-1]\n",
    "    probe = (0,0)\n",
    "    clean = lambda l: tuple([int(i) for i in l])\n",
    "    x_range = clean(inputs.split('=')[1].split(',')[0].split('..'))\n",
    "    y_range = clean(inputs.split('=')[2].split(',')[0].split('..'))"
   ]
  },
  {
   "cell_type": "code",
   "execution_count": 370,
   "id": "1810ac58-416b-4dd1-bdf7-7c143372f799",
   "metadata": {},
   "outputs": [],
   "source": [
    "x_range = (20, 30)\n",
    "y_range = (-10, -5)"
   ]
  },
  {
   "cell_type": "code",
   "execution_count": 422,
   "id": "3eef3139-4ee3-490e-8b13-bff2be882d79",
   "metadata": {},
   "outputs": [],
   "source": [
    "def step(position, velocity, n=1, ys=None):\n",
    "    \n",
    "    if ys is None:\n",
    "        ys = [position[1]]\n",
    "    else:\n",
    "        pass\n",
    "    \n",
    "    if n < 1:\n",
    "        return (position, velocity, ys)\n",
    "    else:\n",
    "        x, y = position\n",
    "        vx, vy = velocity\n",
    "\n",
    "        dx = 1 if vx < 0 else (-1 if vx > 0 else 0)\n",
    "        dy = -1\n",
    "\n",
    "        return step((x + vx, y + vy), (vx + dx, vy + dy), n-1, ys + [y + vy])\n",
    "\n",
    "def steps(position, velocity, t_range):\n",
    "    positions = [position]\n",
    "    \n",
    "    try:\n",
    "        m = min(t_range) - 1\n",
    "    except ValueError:\n",
    "        return positions, [position[1]]\n",
    "    \n",
    "    position, velocity, ys = step(position, velocity, m-1)\n",
    "    \n",
    "    for _ in t_range:\n",
    "        position, velocity, newy = step(position, velocity)\n",
    "        positions.append(position)\n",
    "        ys.append(newy[-1])\n",
    "    \n",
    "    return positions, ys\n",
    "\n",
    "    \n",
    "def yt_range(vy, ymin, ymax, py=0, epsilon=0.001):\n",
    "    solver = lambda a, b, c: max((-b + math.sqrt(b**2 - 4*a*c))/(2*a), (-b - math.sqrt(b**2 - 4*a*c))/(2*a))\n",
    "    tmax = solver(-0.5, vy+0.5, py-ymax) + 1\n",
    "    tmin = solver(-0.5, vy+0.5, py-ymin) + 1\n",
    "    \n",
    "    return range(math.ceil(tmax), math.ceil(tmin+epsilon))\n",
    "\n",
    "\n",
    "def check(position, velocity, xmin, xmax, ymin, ymax):\n",
    "    t_range = yt_range(velocity[1], ymin, ymax, position[1])\n",
    "    s, ys = steps(position, velocity, t_range)\n",
    "    \n",
    "    xinrange = not all([x > xmax for x,y in s] + [True])\n",
    "    \n",
    "    return [(x,y) for x,y in s if (xmin <= x <= xmax) and (ymin <= y <= ymax)], xinrange, ys\n",
    "    \n",
    "\n",
    "vy = -150\n",
    "yinrange = True\n",
    "maxy = 0\n",
    "\n",
    "vs = set()\n",
    "\n",
    "while vy < 300:\n",
    "    vx = 0\n",
    "    xinrange = True\n",
    "    yinrange = False\n",
    "    \n",
    "    while vx < 400:\n",
    "        pos, xinrange, ys = check(probe, (vx, vy), *x_range, *y_range)\n",
    "        if xinrange:\n",
    "            yinrange = True\n",
    "        if pos:\n",
    "            maxy = max(maxy, max(ys))\n",
    "            vs.add((vx,vy))\n",
    "        vx += 1\n",
    "    \n",
    "    vy += 1"
   ]
  },
  {
   "cell_type": "code",
   "execution_count": 423,
   "id": "0bddbf74-e279-4b91-8f21-f58f200fdd8c",
   "metadata": {},
   "outputs": [
    {
     "data": {
      "text/plain": [
       "2850"
      ]
     },
     "execution_count": 423,
     "metadata": {},
     "output_type": "execute_result"
    }
   ],
   "source": [
    "maxy"
   ]
  },
  {
   "cell_type": "code",
   "execution_count": 424,
   "id": "f9914c59-cfa1-4672-88ec-8cd3eee9650b",
   "metadata": {},
   "outputs": [
    {
     "data": {
      "text/plain": [
       "1117"
      ]
     },
     "execution_count": 424,
     "metadata": {},
     "output_type": "execute_result"
    }
   ],
   "source": [
    "len(vs)"
   ]
  },
  {
   "cell_type": "code",
   "execution_count": 409,
   "id": "5dd94ed0-749b-46cd-981a-8470fad43e50",
   "metadata": {},
   "outputs": [],
   "source": [
    "d = {}\n",
    "\n",
    "for x, y in sorted(list(vs)):\n",
    "    if x not in d:\n",
    "        d[x] = 1\n",
    "    else:\n",
    "        d[x] += 1"
   ]
  },
  {
   "cell_type": "code",
   "execution_count": 414,
   "id": "1449908d-cab6-4ef1-b550-28aef531b88e",
   "metadata": {},
   "outputs": [
    {
     "data": {
      "text/plain": [
       "([(297, -66)], True, [0, -1, -3, -6, -10, -15, -21, -28, -36, -45, -55, -66])"
      ]
     },
     "execution_count": 414,
     "metadata": {},
     "output_type": "execute_result"
    }
   ],
   "source": [
    "check((0,0), (32,-1), *x_range, *y_range)"
   ]
  },
  {
   "cell_type": "code",
   "execution_count": 395,
   "id": "127aaeae-c0ff-44ff-8c8e-4d1b3a46a1a3",
   "metadata": {},
   "outputs": [
    {
     "data": {
      "text/plain": [
       "range(4, 7)"
      ]
     },
     "execution_count": 395,
     "metadata": {},
     "output_type": "execute_result"
    }
   ],
   "source": [
    "yt_range(0, -10, -5)"
   ]
  },
  {
   "cell_type": "code",
   "execution_count": 413,
   "id": "f961fcec-a992-4ded-96c1-84bde5bf5bef",
   "metadata": {},
   "outputs": [
    {
     "data": {
      "text/plain": [
       "((287, 309), (-76, -48))"
      ]
     },
     "execution_count": 413,
     "metadata": {},
     "output_type": "execute_result"
    }
   ],
   "source": [
    "x_range, y_range"
   ]
  },
  {
   "cell_type": "code",
   "execution_count": 412,
   "id": "28310cf0-8ced-4e89-babd-3d0f2cbee7b8",
   "metadata": {},
   "outputs": [
    {
     "name": "stdout",
     "output_type": "stream",
     "text": [
      " 0: (0, 0)\n",
      " 1: (155, -25)\n",
      " 2: (309, -51)\n",
      " 3: (462, -78)\n",
      " 4: (614, -106)\n",
      " 5: (765, -135)\n",
      " 6: (915, -165)\n",
      " 7: (1064, -196)\n",
      " 8: (1212, -228)\n",
      " 9: (1359, -261)\n",
      "10: (1505, -295)\n",
      "11: (1650, -330)\n"
     ]
    }
   ],
   "source": [
    "s, ys = steps((0,0), (155,-25), range(-1,10))\n",
    "\n",
    "for i, p in enumerate(s):\n",
    "    print(f\"{str(i).rjust(2)}: {p}\")"
   ]
  },
  {
   "cell_type": "code",
   "execution_count": 396,
   "id": "51226175-d7a8-4967-bb6d-b29d2bc70d74",
   "metadata": {},
   "outputs": [],
   "source": [
    "py, vy = 0, 0\n",
    "ymin, ymax = -10, -5\n",
    "solver = lambda a, b, c: max((-b + math.sqrt(b**2 - 4*a*c))/(2*a), (-b - math.sqrt(b**2 - 4*a*c))/(2*a))\n",
    "tmax = math.ceil(solver(-0.5, vy+0.5, py-ymax) + 1)\n",
    "tmin = math.ceil(solver(-0.5, vy+0.5, py-ymin) + 1 + 0.00001)"
   ]
  },
  {
   "cell_type": "code",
   "execution_count": 397,
   "id": "d804c317-48ce-4ee7-b7b2-9cbcba233a99",
   "metadata": {},
   "outputs": [
    {
     "data": {
      "text/plain": [
       "(5, 7)"
      ]
     },
     "execution_count": 397,
     "metadata": {},
     "output_type": "execute_result"
    }
   ],
   "source": [
    "tmax, tmin"
   ]
  },
  {
   "cell_type": "code",
   "execution_count": 166,
   "id": "7c485e30-5f46-444b-877f-965aeec7585a",
   "metadata": {},
   "outputs": [],
   "source": [
    "a1 = (1,2,3)\n",
    "a2 = (2,3,4)\n",
    "\n",
    "a = [*a1, *a2]"
   ]
  },
  {
   "cell_type": "code",
   "execution_count": 167,
   "id": "eee95be8-afbe-447c-a412-98fedc18b4e2",
   "metadata": {},
   "outputs": [
    {
     "data": {
      "text/plain": [
       "[1, 2, 3, 2, 3, 4]"
      ]
     },
     "execution_count": 167,
     "metadata": {},
     "output_type": "execute_result"
    }
   ],
   "source": [
    "a"
   ]
  },
  {
   "cell_type": "markdown",
   "id": "8298943e-56d8-415a-9fbf-ef52c8ba0650",
   "metadata": {},
   "source": [
    "---\n",
    "\n",
    "## Part Two\n",
    "\n",
    "<!-- Insert Markdown Here -->\n",
    "\n",
    "---"
   ]
  },
  {
   "cell_type": "code",
   "execution_count": 94,
   "id": "fccd3734-8555-4fe3-8a4e-161b836a8e21",
   "metadata": {},
   "outputs": [
    {
     "data": {
      "text/plain": [
       "4"
      ]
     },
     "execution_count": 94,
     "metadata": {},
     "output_type": "execute_result"
    }
   ],
   "source": [
    "max(range(1,5))"
   ]
  },
  {
   "cell_type": "code",
   "execution_count": 95,
   "id": "ae4df3d2-feb1-4001-9992-d4fa8fa97c56",
   "metadata": {},
   "outputs": [
    {
     "data": {
      "text/plain": [
       "['__bool__',\n",
       " '__class__',\n",
       " '__contains__',\n",
       " '__delattr__',\n",
       " '__dir__',\n",
       " '__doc__',\n",
       " '__eq__',\n",
       " '__format__',\n",
       " '__ge__',\n",
       " '__getattribute__',\n",
       " '__getitem__',\n",
       " '__gt__',\n",
       " '__hash__',\n",
       " '__init__',\n",
       " '__init_subclass__',\n",
       " '__iter__',\n",
       " '__le__',\n",
       " '__len__',\n",
       " '__lt__',\n",
       " '__ne__',\n",
       " '__new__',\n",
       " '__reduce__',\n",
       " '__reduce_ex__',\n",
       " '__repr__',\n",
       " '__reversed__',\n",
       " '__setattr__',\n",
       " '__sizeof__',\n",
       " '__str__',\n",
       " '__subclasshook__',\n",
       " 'count',\n",
       " 'index',\n",
       " 'start',\n",
       " 'step',\n",
       " 'stop']"
      ]
     },
     "execution_count": 95,
     "metadata": {},
     "output_type": "execute_result"
    }
   ],
   "source": [
    "dir(range(1,2))"
   ]
  },
  {
   "cell_type": "markdown",
   "id": "af4634e7-9951-4690-8ee5-5eac17d7df9f",
   "metadata": {},
   "source": [
    "---"
   ]
  }
 ],
 "metadata": {
  "kernelspec": {
   "display_name": "AoC2021",
   "language": "python",
   "name": "aoc2021"
  },
  "language_info": {
   "codemirror_mode": {
    "name": "ipython",
    "version": 3
   },
   "file_extension": ".py",
   "mimetype": "text/x-python",
   "name": "python",
   "nbconvert_exporter": "python",
   "pygments_lexer": "ipython3",
   "version": "3.8.2"
  }
 },
 "nbformat": 4,
 "nbformat_minor": 5
}
