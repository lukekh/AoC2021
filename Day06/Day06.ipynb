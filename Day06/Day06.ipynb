{
 "cells": [
  {
   "cell_type": "markdown",
   "id": "d9d74a00-788c-4f0b-8364-cc48e463117b",
   "metadata": {},
   "source": [
    "---\n",
    "\n",
    "# Day 6: Lanternfish\n",
    "\n",
    "## Part One\n",
    "\n",
    "The sea floor is getting steeper. Maybe the sleigh keys got carried this way?\n",
    "\n",
    "A massive school of glowing lanternfish swims past. They must spawn quickly to reach such large numbers - maybe exponentially quickly? You should model their growth rate to be sure.\n",
    "\n",
    "Although you know nothing about this specific species of lanternfish, you make some guesses about their attributes. Surely, each lanternfish creates a new lanternfish once every 7 days.\n",
    "\n",
    "However, this process isn't necessarily synchronized between every lanternfish - one lanternfish might have 2 days left until it creates another lanternfish, while another might have 4. So, you can model each fish as a single number that represents the number of days until it creates a new lanternfish.\n",
    "\n",
    "Furthermore, you reason, a new lanternfish would surely need slightly longer before it's capable of producing more lanternfish: two more days for its first cycle.\n",
    "\n",
    "So, suppose you have a lanternfish with an internal timer value of 3:\n",
    "\n",
    "* After one day, its internal timer would become 2.\n",
    "\n",
    "* After another day, its internal timer would become 1.\n",
    "\n",
    "* After another day, its internal timer would become 0.\n",
    "\n",
    "* After another day, its internal timer would reset to 6, and it would create a new lanternfish with an internal timer of 8.\n",
    "\n",
    "* After another day, the first lanternfish would have an internal timer of 5, and the second lanternfish would have an internal timer of 7.\n",
    "\n",
    "A lanternfish that creates a new fish resets its timer to 6, not 7 (because 0 is included as a valid timer value). The new lanternfish starts with an internal timer of 8 and does not start counting down until the next day.\n",
    "\n",
    "Realizing what you're trying to do, the submarine automatically produces a list of the ages of several hundred nearby lanternfish (your puzzle input). For example, suppose you were given the following list:\n",
    "\n",
    "`3,4,3,1,2`\n",
    "\n",
    "This list means that the first fish has an internal timer of 3, the second fish has an internal timer of 4, and so on until the fifth fish, which has an internal timer of 2. Simulating these fish over several days would proceed as follows:\n",
    "```\n",
    "Initial state: 3,4,3,1,2\n",
    "After  1 day:  2,3,2,0,1\n",
    "After  2 days: 1,2,1,6,0,8\n",
    "After  3 days: 0,1,0,5,6,7,8\n",
    "After  4 days: 6,0,6,4,5,6,7,8,8\n",
    "After  5 days: 5,6,5,3,4,5,6,7,7,8\n",
    "After  6 days: 4,5,4,2,3,4,5,6,6,7\n",
    "After  7 days: 3,4,3,1,2,3,4,5,5,6\n",
    "After  8 days: 2,3,2,0,1,2,3,4,4,5\n",
    "After  9 days: 1,2,1,6,0,1,2,3,3,4,8\n",
    "After 10 days: 0,1,0,5,6,0,1,2,2,3,7,8\n",
    "After 11 days: 6,0,6,4,5,6,0,1,1,2,6,7,8,8,8\n",
    "After 12 days: 5,6,5,3,4,5,6,0,0,1,5,6,7,7,7,8,8\n",
    "After 13 days: 4,5,4,2,3,4,5,6,6,0,4,5,6,6,6,7,7,8,8\n",
    "After 14 days: 3,4,3,1,2,3,4,5,5,6,3,4,5,5,5,6,6,7,7,8\n",
    "After 15 days: 2,3,2,0,1,2,3,4,4,5,2,3,4,4,4,5,5,6,6,7\n",
    "After 16 days: 1,2,1,6,0,1,2,3,3,4,1,2,3,3,3,4,4,5,5,6,8\n",
    "After 17 days: 0,1,0,5,6,0,1,2,2,3,0,1,2,2,2,3,3,4,4,5,7,8\n",
    "After 18 days: 6,0,6,4,5,6,0,1,1,2,6,0,1,1,1,2,2,3,3,4,6,7,8,8,8,8\n",
    "```\n",
    "\n",
    "Each day, a 0 becomes a 6 and adds a new 8 to the end of the list, while each other number decreases by 1 if it was present at the start of the day.\n",
    "\n",
    "In this example, after 18 days, there are a total of 26 fish. After 80 days, there would be a total of 5934.\n",
    "\n",
    "Find a way to simulate lanternfish. How many lanternfish would there be after 80 days?\n",
    "\n",
    "---"
   ]
  },
  {
   "cell_type": "code",
   "execution_count": 1,
   "id": "09ea06a0-5266-45a9-a8a9-a92a65a0f553",
   "metadata": {},
   "outputs": [],
   "source": [
    "# Initialise\n",
    "inputs = [int(i) for i in open('Day06.in').read()[:-1].split(',')]"
   ]
  },
  {
   "cell_type": "code",
   "execution_count": 2,
   "id": "17761f44-9da5-45a6-98b3-37ccd92bf23f",
   "metadata": {
    "tags": []
   },
   "outputs": [
    {
     "name": "stdout",
     "output_type": "stream",
     "text": [
      "There are 375482 fish after 80 days\n"
     ]
    }
   ],
   "source": [
    "# Turn inputs into a dictionary to save space\n",
    "d = {\n",
    "    days: inputs.count(days) for days in set(inputs)\n",
    "}\n",
    "\n",
    "def time(dictionary):\n",
    "    \"\"\"\n",
    "    Simulate the passage of one day\n",
    "    \"\"\"\n",
    "    new_dict = {\n",
    "        days-1: dictionary[days] for days in dictionary\n",
    "    }\n",
    "    \n",
    "    if -1 in new_dict:\n",
    "        spawn = new_dict[-1]\n",
    "        del new_dict[-1]\n",
    "\n",
    "        if 6 in new_dict:\n",
    "            new_dict[6] += spawn\n",
    "        else:\n",
    "            new_dict[6] = spawn\n",
    "\n",
    "        new_dict[8] = spawn\n",
    "    return new_dict\n",
    "\n",
    "# Simulate time for 80 days\n",
    "for _ in range(80):\n",
    "    d = time(d)\n",
    "\n",
    "# Solution\n",
    "print(f\"There are {sum(d.values())} fish after 80 days\")"
   ]
  },
  {
   "cell_type": "markdown",
   "id": "7ee5ad39-c36a-4281-974c-dfe9b5f7927b",
   "metadata": {},
   "source": [
    "---\n",
    "\n",
    "## Part Two\n",
    "\n",
    "Suppose the lanternfish live forever and have unlimited food and space. Would they take over the entire ocean?\n",
    "\n",
    "After 256 days in the example above, there would be a total of 26984457539 lanternfish!\n",
    "\n",
    "---"
   ]
  },
  {
   "cell_type": "code",
   "execution_count": 3,
   "id": "6c6f9300-c39c-46b8-aee0-75d0f490b576",
   "metadata": {},
   "outputs": [
    {
     "name": "stdout",
     "output_type": "stream",
     "text": [
      "There are 1689540415957 fish after 80 days\n"
     ]
    }
   ],
   "source": [
    "# Reset dictionary\n",
    "d = {\n",
    "    days: inputs.count(days) for days in set(inputs)\n",
    "}\n",
    "\n",
    "# Simulate time for 256 days\n",
    "for _ in range(256):\n",
    "    d = time(d)\n",
    "\n",
    "# Solution\n",
    "print(f\"There are {sum(d.values())} fish after 80 days\")"
   ]
  },
  {
   "cell_type": "markdown",
   "id": "d6fee017-73de-448b-b446-02f8df9f63d0",
   "metadata": {},
   "source": [
    "---"
   ]
  }
 ],
 "metadata": {
  "kernelspec": {
   "display_name": "AoC2021",
   "language": "python",
   "name": "aoc2021"
  },
  "language_info": {
   "codemirror_mode": {
    "name": "ipython",
    "version": 3
   },
   "file_extension": ".py",
   "mimetype": "text/x-python",
   "name": "python",
   "nbconvert_exporter": "python",
   "pygments_lexer": "ipython3",
   "version": "3.8.2"
  }
 },
 "nbformat": 4,
 "nbformat_minor": 5
}
