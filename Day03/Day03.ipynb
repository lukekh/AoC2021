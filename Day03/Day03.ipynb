{
 "cells": [
  {
   "cell_type": "markdown",
   "id": "d66a778f-1327-4ef8-812f-d5c0faeb3620",
   "metadata": {},
   "source": [
    "---\n",
    "\n",
    "# Day 3: Binary Diagnostic\n",
    "\n",
    "## Part One\n",
    "\n",
    "The submarine has been making some odd creaking noises, so you ask it to produce a diagnostic report just in case.\n",
    "\n",
    "The diagnostic report (your puzzle input) consists of a list of binary numbers which, when decoded properly, can tell you many useful things about the conditions of the submarine. The first parameter to check is the power consumption.\n",
    "\n",
    "You need to use the binary numbers in the diagnostic report to generate two new binary numbers (called the gamma rate and the epsilon rate). The power consumption can then be found by multiplying the gamma rate by the epsilon rate.\n",
    "\n",
    "Each bit in the gamma rate can be determined by finding the most common bit in the corresponding position of all numbers in the diagnostic report. For example, given the following diagnostic report:\n",
    "```\n",
    "00100\n",
    "11110\n",
    "10110\n",
    "10111\n",
    "10101\n",
    "01111\n",
    "00111\n",
    "11100\n",
    "10000\n",
    "11001\n",
    "00010\n",
    "01010\n",
    "```\n",
    "\n",
    "Considering only the first bit of each number, there are five `0` bits and seven `1` bits. Since the most common bit is `1`, the first bit of the gamma rate is `1`.\n",
    "\n",
    "The most common second bit of the numbers in the diagnostic report is `0`, so the second bit of the gamma rate is `0`.\n",
    "\n",
    "The most common value of the third, fourth, and fifth bits are `1`, `1`, and `0`, respectively, and so the final three bits of the gamma rate are `110`.\n",
    "\n",
    "So, the gamma rate is the binary number `10110`, or `22` in decimal.\n",
    "\n",
    "The epsilon rate is calculated in a similar way; rather than use the most common bit, the least common bit from each position is used. So, the epsilon rate is `01001`, or `9` in decimal. Multiplying the gamma rate (`22`) by the epsilon rate (`9`) produces the power consumption, `198`.\n",
    "\n",
    "Use the binary numbers in your diagnostic report to calculate the gamma rate and epsilon rate, then multiply them together. What is the power consumption of the submarine? (Be sure to represent your answer in decimal, not binary.)\n",
    "\n",
    "---"
   ]
  },
  {
   "cell_type": "code",
   "execution_count": 1,
   "id": "eff09b31-0ccb-44d4-9ea9-98c4250dd72f",
   "metadata": {},
   "outputs": [],
   "source": [
    "# Initialise\n",
    "inputs = [i[:-1] for i in open('Day03.in').readlines()]"
   ]
  },
  {
   "cell_type": "code",
   "execution_count": 2,
   "id": "71c9d75d-1206-4cd4-b1fa-c58e7f0350a3",
   "metadata": {},
   "outputs": [
    {
     "name": "stdout",
     "output_type": "stream",
     "text": [
      "Power consumption: 1025636\n"
     ]
    }
   ],
   "source": [
    "# Define gamma function and note that epsilon is just the gamma function\n",
    "# composed with flipping each binary digit.\n",
    "gamma = lambda b: '1' if b.count('1') >= b.count('0') else '0'\n",
    "g_rate = int(''.join([gamma([v[i] for v in inputs]) for i in range(len(inputs[0]))]), 2)\n",
    "e_rate = 2**(len(inputs[0])) + ~g_rate\n",
    "\n",
    "# Solution\n",
    "print(f\"Power consumption: {g_rate * e_rate}\")"
   ]
  },
  {
   "cell_type": "markdown",
   "id": "b65b3c5d-2509-406a-8e52-41a6a9dbb316",
   "metadata": {},
   "source": [
    "---\n",
    "\n",
    "## Part Two\n",
    "\n",
    "Next, you should verify the life support rating, which can be determined by multiplying the oxygen generator rating by the CO2 scrubber rating.\n",
    "\n",
    "Both the oxygen generator rating and the CO2 scrubber rating are values that can be found in your diagnostic report - finding them is the tricky part. Both values are located using a similar process that involves filtering out values until only one remains. Before searching for either rating value, start with the full list of binary numbers from your diagnostic report and consider just the first bit of those numbers. Then:\n",
    "\n",
    "* Keep only numbers selected by the bit criteria for the type of rating value for which you are searching. Discard numbers which do not match the bit criteria.\n",
    "\n",
    "* If you only have one number left, stop; this is the rating value for which you are searching.\n",
    "\n",
    "* Otherwise, repeat the process, considering the next bit to the right.\n",
    "\n",
    "The bit criteria depends on which type of rating value you want to find:\n",
    "\n",
    "\n",
    "* To find oxygen generator rating, determine the most common value (`0` or `1`) in the current bit position, and keep only numbers with that bit in that position. If `0` and `1` are equally common, keep values with a `1` in the position being considered.\n",
    "\n",
    "* To find CO2 scrubber rating, determine the least common value (`0` or `1`) in the current bit position, and keep only numbers with that bit in that position. If `0` and `1` are equally common, keep values with a 0 in the position being considered.\n",
    "\n",
    "For example, to determine the oxygen generator rating value using the same example diagnostic report from above:\n",
    "\n",
    "* Start with all 12 numbers and consider only the first bit of each number. There are more `1` bits (7) than `0` bits (5), so keep only the 7 numbers with a `1` in the first position: `11110`, `10110`, `10111`, `10101`, `11100`, `10000`, and `11001`.\n",
    "\n",
    "* Then, consider the second bit of the 7 remaining numbers: there are more `0` bits (4) than `1` bits (3), so keep only the 4 numbers with a `0` in the second position: `10110`, `10111`, `10101`, and `10000`.\n",
    "\n",
    "* In the third position, three of the four numbers have a `1`, so keep those three: `10110`, `10111`, and `10101`.\n",
    "\n",
    "* In the fourth position, two of the three numbers have a `1`, so keep those two: `10110` and `10111`.\n",
    "\n",
    "* In the fifth position, there are an equal number of `0` bits and `1` bits (one each). So, to find the oxygen generator rating, keep the number with a `1` in that position: `10111`.\n",
    "\n",
    "* As there is only one number left, stop; the oxygen generator rating is `10111`, or `23` in decimal.\n",
    "\n",
    "Then, to determine the CO2 scrubber rating value from the same example above:\n",
    "\n",
    "* Start again with all 12 numbers and consider only the first bit of each number. There are fewer `0` bits (5) than `1` bits (7), so keep only the 5 numbers with a `0` in the first position: `00100`, `01111`, `00111`, `00010`, and `01010`.\n",
    "\n",
    "* Then, consider the second bit of the 5 remaining numbers: there are fewer `1` bits (2) than `0` bits (3), so keep only the 2 numbers with a `1` in the second position: `01111` and `01010`.\n",
    "\n",
    "* In the third position, there are an equal number of `0` bits and `1` bits (one each). So, to find the CO2 scrubber rating, keep the number with a `0` in that position: `01010`.\n",
    "\n",
    "\n",
    "* As there is only one number left, stop; the CO2 scrubber rating is `01010`, or `10` in decimal.\n",
    "\n",
    "Finally, to find the life support rating, multiply the oxygen generator rating (`23`) by the CO2 scrubber rating (`10`) to get `230`.\n",
    "\n",
    "Use the binary numbers in your diagnostic report to calculate the oxygen generator rating and CO2 scrubber rating, then multiply them together. What is the life support rating of the submarine? (Be sure to represent your answer in decimal, not binary.)\n",
    "\n",
    "---"
   ]
  },
  {
   "cell_type": "code",
   "execution_count": 3,
   "id": "010d1e82-be9a-4861-96f7-cda188c3e6cb",
   "metadata": {},
   "outputs": [
    {
     "name": "stdout",
     "output_type": "stream",
     "text": [
      "Life support rating: 793873\n"
     ]
    }
   ],
   "source": [
    "# This function will be versatile enough to handle oxygen and CO2\n",
    "def recursive_search(d: dict, f) -> int:\n",
    "    \"\"\"\n",
    "    Takes a dictionary whose keys are the binary numbers and values are the indices\n",
    "    and a function f and returns the code that meets the critera specified by f.\n",
    "    \"\"\"\n",
    "    b = f([v[0] for v in d])\n",
    "    new_d = {v[1:]:d[v] for v in d if v[0] == b}\n",
    "    \n",
    "    if (n:=len(new_d)) < 2:\n",
    "        if n == 1:\n",
    "            return int(inputs[list(new_d.values())[0]], 2)\n",
    "        else:\n",
    "            raise Exception(f'Non-unique value:\\n\\t{new_d}')\n",
    "    else:\n",
    "        return recursive_search(new_d, f)\n",
    "\n",
    "# Define lambdas for oxygen and CO2 here\n",
    "oxygen = lambda l: recursive_search({v:i for i, v in enumerate(l)}, gamma)\n",
    "CO2 = lambda l: recursive_search({v:i for i, v in enumerate(l)}, lambda d: '0' if gamma([v[0] for v in d]) == '1' else '1')\n",
    "\n",
    "# Solution\n",
    "print(f\"Life support rating: {oxygen(inputs) * CO2(inputs)}\")"
   ]
  },
  {
   "cell_type": "markdown",
   "id": "c731b07e-3e48-4c5c-b5a3-bff872093abc",
   "metadata": {},
   "source": [
    "---"
   ]
  }
 ],
 "metadata": {
  "kernelspec": {
   "display_name": "AoC2021",
   "language": "python",
   "name": "aoc2021"
  },
  "language_info": {
   "codemirror_mode": {
    "name": "ipython",
    "version": 3
   },
   "file_extension": ".py",
   "mimetype": "text/x-python",
   "name": "python",
   "nbconvert_exporter": "python",
   "pygments_lexer": "ipython3",
   "version": "3.8.2"
  }
 },
 "nbformat": 4,
 "nbformat_minor": 5
}
