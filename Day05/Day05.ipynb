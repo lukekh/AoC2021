{
 "cells": [
  {
   "cell_type": "markdown",
   "id": "ff7ce722-265d-43b5-ab1c-873b01f1938d",
   "metadata": {},
   "source": [
    "# Day 5: Hydrothermal Venture\n",
    "\n",
    "## Part One\n",
    "\n",
    "You come across a field of hydrothermal vents on the ocean floor! These vents constantly produce large, opaque clouds, so it would be best to avoid them if possible.\n",
    "\n",
    "They tend to form in lines; the submarine helpfully produces a list of nearby lines of vents (your puzzle input) for you to review. For example:\n",
    "```\n",
    "0,9 -> 5,9\n",
    "8,0 -> 0,8\n",
    "9,4 -> 3,4\n",
    "2,2 -> 2,1\n",
    "7,0 -> 7,4\n",
    "6,4 -> 2,0\n",
    "0,9 -> 2,9\n",
    "3,4 -> 1,4\n",
    "0,0 -> 8,8\n",
    "5,5 -> 8,2\n",
    "```\n",
    "\n",
    "Each line of vents is given as a line segment in the format `x1,y1 -> x2,y2` where `x1,y1` are the coordinates of one end the line segment and `x2,y2` are the coordinates of the other end. These line segments include the points at both ends. In other words:\n",
    "\n",
    "* An entry like `1,1 -> 1,3` covers points `1,1`, `1,2`, and `1,3`.\n",
    "\n",
    "* An entry like `9,7 -> 7,7` covers points `9,7`, `8,7`, and `7,7`.\n",
    "\n",
    "For now, only consider horizontal and vertical lines: lines where either `x1` = `x2` or `y1` = `y2`.\n",
    "\n",
    "So, the horizontal and vertical lines from the above list would produce the following diagram:\n",
    "```\n",
    ".......1..\n",
    "..1....1..\n",
    "..1....1..\n",
    ".......1..\n",
    ".112111211\n",
    "..........\n",
    "..........\n",
    "..........\n",
    "..........\n",
    "222111....\n",
    "```\n",
    "\n",
    "In this diagram, the top left corner is `0,0` and the bottom right corner is `9,9`. Each position is shown as the number of lines which cover that point or `.` if no line covers that point. The top-left pair of `1`s, for example, comes from `2,2 -> 2,1`; the very bottom row is formed by the overlapping lines `0,9 -> 5,9` and `0,9 -> 2,9`.\n",
    "\n",
    "To avoid the most dangerous areas, you need to determine the number of points where at least two lines overlap. In the above example, this is anywhere in the diagram with a `2` or larger - a total of `5` points.\n",
    "\n",
    "Consider only horizontal and vertical lines. At how many points do at least two lines overlap?\n",
    "\n",
    "---"
   ]
  },
  {
   "cell_type": "code",
   "execution_count": 1,
   "id": "57150ac7-4e51-4dbd-b4a2-448bd7f0ca82",
   "metadata": {},
   "outputs": [],
   "source": [
    "# Initialise\n",
    "clean = lambda s: tuple([tuple([int(j) for j in i.split(',')]) for i in s[:-1].split('->')])\n",
    "inputs = [clean(i) for i in open('Day05.in').readlines()]"
   ]
  },
  {
   "cell_type": "code",
   "execution_count": 2,
   "id": "2df36afc-8dee-42ba-b5b2-2949e27a4cc1",
   "metadata": {},
   "outputs": [
    {
     "name": "stdout",
     "output_type": "stream",
     "text": [
      "There are 7674 points that have an overlap.\n"
     ]
    }
   ],
   "source": [
    "# This helper function will take a range in any direction and still work as well as\n",
    "# Include both end points.\n",
    "# E.g. Range(10, 0) = range(10, -1, -1), Range(3,5) = range(3, 6, 1)\n",
    "Range = lambda start, stop: range(start, stop+1) if start<=stop else range(start, stop - 1, -1)\n",
    "\n",
    "def all_points(line):\n",
    "    \"\"\"\n",
    "    Takes a line of the form ((x1,y1), (x2,y2)) and returns the set of points\n",
    "    on the line.\n",
    "    \n",
    "    The line must be straight otherwise returns an empty set.\n",
    "    \"\"\"\n",
    "    ((x1,y1), (x2,y2)) = line\n",
    "    \n",
    "    if x1 == x2:\n",
    "        return set([(x1,y) for y in Range(y1, y2)])\n",
    "    elif y1 == y2:\n",
    "        return set([(x,y1) for x in Range(x1, x2)])\n",
    "    else:\n",
    "        return set()\n",
    "\n",
    "# Initialise set of points that appear and overlapping points\n",
    "points = set()\n",
    "appears_more_than_once = set()\n",
    "\n",
    "for line in inputs:\n",
    "    p = all_points(line)\n",
    "    # Add all p that have already appeared in points\n",
    "    appears_more_than_once |= (p - (p - points))\n",
    "    points |= p\n",
    "\n",
    "# Solution\n",
    "print(f\"There are {len(appears_more_than_once)} points that have an overlap.\")"
   ]
  },
  {
   "cell_type": "markdown",
   "id": "4d3f5c1c-1783-4ded-89c2-4e440f78ab96",
   "metadata": {
    "tags": []
   },
   "source": [
    "---\n",
    "\n",
    "## Part Two\n",
    "\n",
    "Unfortunately, considering only horizontal and vertical lines doesn't give you the full picture; you need to also consider diagonal lines.\n",
    "\n",
    "Because of the limits of the hydrothermal vent mapping system, the lines in your list will only ever be horizontal, vertical, or a diagonal line at exactly 45 degrees. In other words:\n",
    "\n",
    "* An entry like `1,1 -> 3,3` covers points `1,1`, `2,2`, and `3,3`.\n",
    "\n",
    "* An entry like `9,7 -> 7,9` covers points `9,7`, `8,8`, and `7,9`.\n",
    "\n",
    "Considering all lines from the above example would now produce the following diagram:\n",
    "```\n",
    "1.1....11.\n",
    ".111...2..\n",
    "..2.1.111.\n",
    "...1.2.2..\n",
    ".112313211\n",
    "...1.2....\n",
    "..1...1...\n",
    ".1.....1..\n",
    "1.......1.\n",
    "222111....\n",
    "```\n",
    "\n",
    "You still need to determine the number of points where at least two lines overlap. In the above example, this is still anywhere in the diagram with a `2` or larger - now a total of 12 points.\n",
    "\n",
    "Consider all of the lines. At how many points do at least two lines overlap?\n",
    "\n",
    "---"
   ]
  },
  {
   "cell_type": "code",
   "execution_count": 3,
   "id": "550ff6b1-aef7-4b56-ae4c-c31e7e2c1f71",
   "metadata": {},
   "outputs": [
    {
     "name": "stdout",
     "output_type": "stream",
     "text": [
      "There are 20898 points that have an overlap.\n"
     ]
    }
   ],
   "source": [
    "def all_points(line):\n",
    "    \"\"\"\n",
    "    Takes a line of the form ((x1,y1), (x2,y2)) and returns the set of points\n",
    "    on the line.\n",
    "    \n",
    "    The line must be straight or perfectly diagonal, otherwise returns an empty set.\n",
    "    \"\"\"\n",
    "    ((x1,y1), (x2,y2)) = line\n",
    "    \n",
    "    if x1 == x2:\n",
    "        return set([(x1,y) for y in Range(y1, y2)])\n",
    "    elif y1 == y2:\n",
    "        return set([(x,y1) for x in Range(x1,x2)])\n",
    "    elif abs(x1 - x2) == abs(y1 - y2):\n",
    "        return set([(x,y) for x, y in zip(Range(x1,x2), Range(y1,y2))])\n",
    "    else:\n",
    "        return set()\n",
    "\n",
    "# Initialise set of points that appear and overlapping points\n",
    "points = set()\n",
    "appears_more_than_once = set()\n",
    "\n",
    "# Same as above\n",
    "for line in inputs:\n",
    "    p = all_points(line)\n",
    "    appears_more_than_once |= (p - (p - points))\n",
    "    points |= p\n",
    "\n",
    "# Solution\n",
    "print(f\"There are {len(appears_more_than_once)} points that have an overlap.\")"
   ]
  },
  {
   "cell_type": "markdown",
   "id": "be7e6428-e066-4178-9a3f-13de842a2f4c",
   "metadata": {},
   "source": [
    "---"
   ]
  }
 ],
 "metadata": {
  "kernelspec": {
   "display_name": "AoC2021",
   "language": "python",
   "name": "aoc2021"
  },
  "language_info": {
   "codemirror_mode": {
    "name": "ipython",
    "version": 3
   },
   "file_extension": ".py",
   "mimetype": "text/x-python",
   "name": "python",
   "nbconvert_exporter": "python",
   "pygments_lexer": "ipython3",
   "version": "3.8.2"
  }
 },
 "nbformat": 4,
 "nbformat_minor": 5
}
